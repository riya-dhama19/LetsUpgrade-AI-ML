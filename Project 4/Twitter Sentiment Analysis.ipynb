{
 "cells": [
  {
   "cell_type": "markdown",
   "metadata": {},
   "source": [
    "<h2 align='center'> Twitter Sentimen analysis </h2>"
   ]
  },
  {
   "cell_type": "markdown",
   "metadata": {},
   "source": [
    "### We will collect text data using Twitter API."
   ]
  },
  {
   "cell_type": "raw",
   "metadata": {},
   "source": [
    "!pip install tweepy\n",
    "!pip install openpyxl\n",
    "!pip install textblob"
   ]
  },
  {
   "cell_type": "markdown",
   "metadata": {},
   "source": [
    "### Importing essentials modules"
   ]
  },
  {
   "cell_type": "code",
   "execution_count": 1,
   "metadata": {},
   "outputs": [],
   "source": [
    "import numpy as np\n",
    "import pandas as pd\n",
    "import tweepy\n",
    "import json\n",
    "from tweepy import OAuthHandler"
   ]
  },
  {
   "cell_type": "code",
   "execution_count": 2,
   "metadata": {},
   "outputs": [],
   "source": [
    "consumer_key = \"LzsCOl12ZZ79FObx7BV9a1R3a\"\n",
    "consumer_secret = \"gODxZ1kHJHDGgYfyP12AUN37UTlDd6yn3OsSV9Tl0iwu0K0cRY\"\n",
    "access_token = \"296102538-kYIK8SULCmRK4vgvYD2DhKbwvSXrgTdTkWh0Nvsp\"\n",
    "access_token_secret = \"Ib9obwgcE5tZk4S6tY5rAqI5iXOeJc9FGFg28qHoa4YpP\""
   ]
  },
  {
   "cell_type": "code",
   "execution_count": 3,
   "metadata": {},
   "outputs": [],
   "source": [
    "auth = tweepy.OAuthHandler( consumer_key , consumer_secret )\n",
    "auth.set_access_token( access_token , access_token_secret )\n",
    "api = tweepy.API(auth)"
   ]
  },
  {
   "cell_type": "code",
   "execution_count": 4,
   "metadata": {},
   "outputs": [],
   "source": [
    "query = \"dc wins ipl 2020\""
   ]
  },
  {
   "cell_type": "code",
   "execution_count": 5,
   "metadata": {},
   "outputs": [
    {
     "name": "stdout",
     "output_type": "stream",
     "text": [
      "Status(_api=<tweepy.api.API object at 0x000001D7364E8400>, _json={'created_at': 'Wed Nov 11 13:28:35 +0000 2020', 'id': 1326517177596465154, 'id_str': '1326517177596465154', 'full_text': \"It's for the second time when the #KXIP Player wins the Orange Cap in #IPL!!\\n\\n#IPL2020 #KingsXIPunjab #KLRahul #KXIP #IndianPremierLeague \\n\\nhttps://t.co/nBWQiEU4W5\", 'truncated': False, 'display_text_range': [0, 163], 'entities': {'hashtags': [{'text': 'KXIP', 'indices': [34, 39]}, {'text': 'IPL', 'indices': [70, 74]}, {'text': 'IPL2020', 'indices': [78, 86]}, {'text': 'KingsXIPunjab', 'indices': [87, 101]}, {'text': 'KLRahul', 'indices': [102, 110]}, {'text': 'KXIP', 'indices': [111, 116]}, {'text': 'IndianPremierLeague', 'indices': [117, 137]}], 'symbols': [], 'user_mentions': [], 'urls': [{'url': 'https://t.co/nBWQiEU4W5', 'expanded_url': 'https://www.cricadium.com/orange-cap-holder-of-ipl-2020-updated-after-mi-vs-dc-final/', 'display_url': 'cricadium.com/orange-cap-hol…', 'indices': [140, 163]}]}, 'metadata': {'iso_language_code': 'en', 'result_type': 'recent'}, 'source': '<a href=\"https://mobile.twitter.com\" rel=\"nofollow\">Twitter Web App</a>', 'in_reply_to_status_id': None, 'in_reply_to_status_id_str': None, 'in_reply_to_user_id': None, 'in_reply_to_user_id_str': None, 'in_reply_to_screen_name': None, 'user': {'id': 884279852009967616, 'id_str': '884279852009967616', 'name': 'Cricadium CRICKET', 'screen_name': 'Cricadium', 'location': 'Mainly at Stadium', 'description': 'FROM STADIUM TO CRICADIUM!!\\nMatch Predictions 💯 | Fantasy Cricket Tips 🤑| Cricket News 📱 | Live Scores 🏏', 'url': 'https://t.co/YWBoorDQmp', 'entities': {'url': {'urls': [{'url': 'https://t.co/YWBoorDQmp', 'expanded_url': 'http://www.cricadium.com/', 'display_url': 'cricadium.com', 'indices': [0, 23]}]}, 'description': {'urls': []}}, 'protected': False, 'followers_count': 541, 'friends_count': 322, 'listed_count': 3, 'created_at': 'Mon Jul 10 05:15:20 +0000 2017', 'favourites_count': 3333, 'utc_offset': None, 'time_zone': None, 'geo_enabled': True, 'verified': False, 'statuses_count': 12808, 'lang': None, 'contributors_enabled': False, 'is_translator': False, 'is_translation_enabled': False, 'profile_background_color': '000000', 'profile_background_image_url': 'http://abs.twimg.com/images/themes/theme1/bg.png', 'profile_background_image_url_https': 'https://abs.twimg.com/images/themes/theme1/bg.png', 'profile_background_tile': False, 'profile_image_url': 'http://pbs.twimg.com/profile_images/1035513884184965126/voC0mFoj_normal.jpg', 'profile_image_url_https': 'https://pbs.twimg.com/profile_images/1035513884184965126/voC0mFoj_normal.jpg', 'profile_banner_url': 'https://pbs.twimg.com/profile_banners/884279852009967616/1584966500', 'profile_link_color': '1B95E0', 'profile_sidebar_border_color': '000000', 'profile_sidebar_fill_color': '000000', 'profile_text_color': '000000', 'profile_use_background_image': False, 'has_extended_profile': True, 'default_profile': False, 'default_profile_image': False, 'following': False, 'follow_request_sent': False, 'notifications': False, 'translator_type': 'none'}, 'geo': None, 'coordinates': None, 'place': None, 'contributors': None, 'is_quote_status': False, 'retweet_count': 0, 'favorite_count': 1, 'favorited': False, 'retweeted': False, 'possibly_sensitive': False, 'lang': 'en'}, created_at=datetime.datetime(2020, 11, 11, 13, 28, 35), id=1326517177596465154, id_str='1326517177596465154', full_text=\"It's for the second time when the #KXIP Player wins the Orange Cap in #IPL!!\\n\\n#IPL2020 #KingsXIPunjab #KLRahul #KXIP #IndianPremierLeague \\n\\nhttps://t.co/nBWQiEU4W5\", truncated=False, display_text_range=[0, 163], entities={'hashtags': [{'text': 'KXIP', 'indices': [34, 39]}, {'text': 'IPL', 'indices': [70, 74]}, {'text': 'IPL2020', 'indices': [78, 86]}, {'text': 'KingsXIPunjab', 'indices': [87, 101]}, {'text': 'KLRahul', 'indices': [102, 110]}, {'text': 'KXIP', 'indices': [111, 116]}, {'text': 'IndianPremierLeague', 'indices': [117, 137]}], 'symbols': [], 'user_mentions': [], 'urls': [{'url': 'https://t.co/nBWQiEU4W5', 'expanded_url': 'https://www.cricadium.com/orange-cap-holder-of-ipl-2020-updated-after-mi-vs-dc-final/', 'display_url': 'cricadium.com/orange-cap-hol…', 'indices': [140, 163]}]}, metadata={'iso_language_code': 'en', 'result_type': 'recent'}, source='Twitter Web App', source_url='https://mobile.twitter.com', in_reply_to_status_id=None, in_reply_to_status_id_str=None, in_reply_to_user_id=None, in_reply_to_user_id_str=None, in_reply_to_screen_name=None, author=User(_api=<tweepy.api.API object at 0x000001D7364E8400>, _json={'id': 884279852009967616, 'id_str': '884279852009967616', 'name': 'Cricadium CRICKET', 'screen_name': 'Cricadium', 'location': 'Mainly at Stadium', 'description': 'FROM STADIUM TO CRICADIUM!!\\nMatch Predictions 💯 | Fantasy Cricket Tips 🤑| Cricket News 📱 | Live Scores 🏏', 'url': 'https://t.co/YWBoorDQmp', 'entities': {'url': {'urls': [{'url': 'https://t.co/YWBoorDQmp', 'expanded_url': 'http://www.cricadium.com/', 'display_url': 'cricadium.com', 'indices': [0, 23]}]}, 'description': {'urls': []}}, 'protected': False, 'followers_count': 541, 'friends_count': 322, 'listed_count': 3, 'created_at': 'Mon Jul 10 05:15:20 +0000 2017', 'favourites_count': 3333, 'utc_offset': None, 'time_zone': None, 'geo_enabled': True, 'verified': False, 'statuses_count': 12808, 'lang': None, 'contributors_enabled': False, 'is_translator': False, 'is_translation_enabled': False, 'profile_background_color': '000000', 'profile_background_image_url': 'http://abs.twimg.com/images/themes/theme1/bg.png', 'profile_background_image_url_https': 'https://abs.twimg.com/images/themes/theme1/bg.png', 'profile_background_tile': False, 'profile_image_url': 'http://pbs.twimg.com/profile_images/1035513884184965126/voC0mFoj_normal.jpg', 'profile_image_url_https': 'https://pbs.twimg.com/profile_images/1035513884184965126/voC0mFoj_normal.jpg', 'profile_banner_url': 'https://pbs.twimg.com/profile_banners/884279852009967616/1584966500', 'profile_link_color': '1B95E0', 'profile_sidebar_border_color': '000000', 'profile_sidebar_fill_color': '000000', 'profile_text_color': '000000', 'profile_use_background_image': False, 'has_extended_profile': True, 'default_profile': False, 'default_profile_image': False, 'following': False, 'follow_request_sent': False, 'notifications': False, 'translator_type': 'none'}, id=884279852009967616, id_str='884279852009967616', name='Cricadium CRICKET', screen_name='Cricadium', location='Mainly at Stadium', description='FROM STADIUM TO CRICADIUM!!\\nMatch Predictions 💯 | Fantasy Cricket Tips 🤑| Cricket News 📱 | Live Scores 🏏', url='https://t.co/YWBoorDQmp', entities={'url': {'urls': [{'url': 'https://t.co/YWBoorDQmp', 'expanded_url': 'http://www.cricadium.com/', 'display_url': 'cricadium.com', 'indices': [0, 23]}]}, 'description': {'urls': []}}, protected=False, followers_count=541, friends_count=322, listed_count=3, created_at=datetime.datetime(2017, 7, 10, 5, 15, 20), favourites_count=3333, utc_offset=None, time_zone=None, geo_enabled=True, verified=False, statuses_count=12808, lang=None, contributors_enabled=False, is_translator=False, is_translation_enabled=False, profile_background_color='000000', profile_background_image_url='http://abs.twimg.com/images/themes/theme1/bg.png', profile_background_image_url_https='https://abs.twimg.com/images/themes/theme1/bg.png', profile_background_tile=False, profile_image_url='http://pbs.twimg.com/profile_images/1035513884184965126/voC0mFoj_normal.jpg', profile_image_url_https='https://pbs.twimg.com/profile_images/1035513884184965126/voC0mFoj_normal.jpg', profile_banner_url='https://pbs.twimg.com/profile_banners/884279852009967616/1584966500', profile_link_color='1B95E0', profile_sidebar_border_color='000000', profile_sidebar_fill_color='000000', profile_text_color='000000', profile_use_background_image=False, has_extended_profile=True, default_profile=False, default_profile_image=False, following=False, follow_request_sent=False, notifications=False, translator_type='none'), user=User(_api=<tweepy.api.API object at 0x000001D7364E8400>, _json={'id': 884279852009967616, 'id_str': '884279852009967616', 'name': 'Cricadium CRICKET', 'screen_name': 'Cricadium', 'location': 'Mainly at Stadium', 'description': 'FROM STADIUM TO CRICADIUM!!\\nMatch Predictions 💯 | Fantasy Cricket Tips 🤑| Cricket News 📱 | Live Scores 🏏', 'url': 'https://t.co/YWBoorDQmp', 'entities': {'url': {'urls': [{'url': 'https://t.co/YWBoorDQmp', 'expanded_url': 'http://www.cricadium.com/', 'display_url': 'cricadium.com', 'indices': [0, 23]}]}, 'description': {'urls': []}}, 'protected': False, 'followers_count': 541, 'friends_count': 322, 'listed_count': 3, 'created_at': 'Mon Jul 10 05:15:20 +0000 2017', 'favourites_count': 3333, 'utc_offset': None, 'time_zone': None, 'geo_enabled': True, 'verified': False, 'statuses_count': 12808, 'lang': None, 'contributors_enabled': False, 'is_translator': False, 'is_translation_enabled': False, 'profile_background_color': '000000', 'profile_background_image_url': 'http://abs.twimg.com/images/themes/theme1/bg.png', 'profile_background_image_url_https': 'https://abs.twimg.com/images/themes/theme1/bg.png', 'profile_background_tile': False, 'profile_image_url': 'http://pbs.twimg.com/profile_images/1035513884184965126/voC0mFoj_normal.jpg', 'profile_image_url_https': 'https://pbs.twimg.com/profile_images/1035513884184965126/voC0mFoj_normal.jpg', 'profile_banner_url': 'https://pbs.twimg.com/profile_banners/884279852009967616/1584966500', 'profile_link_color': '1B95E0', 'profile_sidebar_border_color': '000000', 'profile_sidebar_fill_color': '000000', 'profile_text_color': '000000', 'profile_use_background_image': False, 'has_extended_profile': True, 'default_profile': False, 'default_profile_image': False, 'following': False, 'follow_request_sent': False, 'notifications': False, 'translator_type': 'none'}, id=884279852009967616, id_str='884279852009967616', name='Cricadium CRICKET', screen_name='Cricadium', location='Mainly at Stadium', description='FROM STADIUM TO CRICADIUM!!\\nMatch Predictions 💯 | Fantasy Cricket Tips 🤑| Cricket News 📱 | Live Scores 🏏', url='https://t.co/YWBoorDQmp', entities={'url': {'urls': [{'url': 'https://t.co/YWBoorDQmp', 'expanded_url': 'http://www.cricadium.com/', 'display_url': 'cricadium.com', 'indices': [0, 23]}]}, 'description': {'urls': []}}, protected=False, followers_count=541, friends_count=322, listed_count=3, created_at=datetime.datetime(2017, 7, 10, 5, 15, 20), favourites_count=3333, utc_offset=None, time_zone=None, geo_enabled=True, verified=False, statuses_count=12808, lang=None, contributors_enabled=False, is_translator=False, is_translation_enabled=False, profile_background_color='000000', profile_background_image_url='http://abs.twimg.com/images/themes/theme1/bg.png', profile_background_image_url_https='https://abs.twimg.com/images/themes/theme1/bg.png', profile_background_tile=False, profile_image_url='http://pbs.twimg.com/profile_images/1035513884184965126/voC0mFoj_normal.jpg', profile_image_url_https='https://pbs.twimg.com/profile_images/1035513884184965126/voC0mFoj_normal.jpg', profile_banner_url='https://pbs.twimg.com/profile_banners/884279852009967616/1584966500', profile_link_color='1B95E0', profile_sidebar_border_color='000000', profile_sidebar_fill_color='000000', profile_text_color='000000', profile_use_background_image=False, has_extended_profile=True, default_profile=False, default_profile_image=False, following=False, follow_request_sent=False, notifications=False, translator_type='none'), geo=None, coordinates=None, place=None, contributors=None, is_quote_status=False, retweet_count=0, favorite_count=1, favorited=False, retweeted=False, possibly_sensitive=False, lang='en') \n",
      "\n",
      ".....................................\n",
      "\n",
      "Status(_api=<tweepy.api.API object at 0x000001D7364E8400>, _json={'created_at': 'Wed Nov 11 11:30:14 +0000 2020', 'id': 1326487394007314432, 'id_str': '1326487394007314432', 'full_text': 'The DC speedster wins the IPL 2020  Purple Cap for his lethal bowling accuracy and a nag for always picking wickets at the crucial time.\\n.\\n.\\n.\\n.\\n#fcl #fclgames #DC #fantasygames #fantasycricket #cricketlovers #cricketfever #ipl #ipl2020 #cricket #iplt20 #bethechampion #purplecap https://t.co/aRuuhDGTBO', 'truncated': False, 'display_text_range': [0, 279], 'entities': {'hashtags': [{'text': 'fcl', 'indices': [145, 149]}, {'text': 'fclgames', 'indices': [150, 159]}, {'text': 'DC', 'indices': [160, 163]}, {'text': 'fantasygames', 'indices': [164, 177]}, {'text': 'fantasycricket', 'indices': [178, 193]}, {'text': 'cricketlovers', 'indices': [194, 208]}, {'text': 'cricketfever', 'indices': [209, 222]}, {'text': 'ipl', 'indices': [223, 227]}, {'text': 'ipl2020', 'indices': [228, 236]}, {'text': 'cricket', 'indices': [237, 245]}, {'text': 'iplt20', 'indices': [246, 253]}, {'text': 'bethechampion', 'indices': [254, 268]}, {'text': 'purplecap', 'indices': [269, 279]}], 'symbols': [], 'user_mentions': [], 'urls': [], 'media': [{'id': 1326487391234822145, 'id_str': '1326487391234822145', 'indices': [280, 303], 'media_url': 'http://pbs.twimg.com/media/EmihQRmWEAExDqU.jpg', 'media_url_https': 'https://pbs.twimg.com/media/EmihQRmWEAExDqU.jpg', 'url': 'https://t.co/aRuuhDGTBO', 'display_url': 'pic.twitter.com/aRuuhDGTBO', 'expanded_url': 'https://twitter.com/FCLgames/status/1326487394007314432/photo/1', 'type': 'photo', 'sizes': {'thumb': {'w': 150, 'h': 150, 'resize': 'crop'}, 'medium': {'w': 1200, 'h': 1199, 'resize': 'fit'}, 'small': {'w': 680, 'h': 680, 'resize': 'fit'}, 'large': {'w': 2048, 'h': 2047, 'resize': 'fit'}}}]}, 'extended_entities': {'media': [{'id': 1326487391234822145, 'id_str': '1326487391234822145', 'indices': [280, 303], 'media_url': 'http://pbs.twimg.com/media/EmihQRmWEAExDqU.jpg', 'media_url_https': 'https://pbs.twimg.com/media/EmihQRmWEAExDqU.jpg', 'url': 'https://t.co/aRuuhDGTBO', 'display_url': 'pic.twitter.com/aRuuhDGTBO', 'expanded_url': 'https://twitter.com/FCLgames/status/1326487394007314432/photo/1', 'type': 'photo', 'sizes': {'thumb': {'w': 150, 'h': 150, 'resize': 'crop'}, 'medium': {'w': 1200, 'h': 1199, 'resize': 'fit'}, 'small': {'w': 680, 'h': 680, 'resize': 'fit'}, 'large': {'w': 2048, 'h': 2047, 'resize': 'fit'}}}]}, 'metadata': {'iso_language_code': 'en', 'result_type': 'recent'}, 'source': '<a href=\"https://publer.io\" rel=\"nofollow\">Publer </a>', 'in_reply_to_status_id': None, 'in_reply_to_status_id_str': None, 'in_reply_to_user_id': None, 'in_reply_to_user_id_str': None, 'in_reply_to_screen_name': None, 'user': {'id': 1308020517576740866, 'id_str': '1308020517576740866', 'name': 'FCL Games', 'screen_name': 'FCLgames', 'location': '', 'description': 'To Play & win the grand bonus & exciting guaranteed prize on launch day, register now from the link given below.', 'url': 'https://t.co/ObRcwX33f3', 'entities': {'url': {'urls': [{'url': 'https://t.co/ObRcwX33f3', 'expanded_url': 'http://play.fclgames.com/', 'display_url': 'play.fclgames.com', 'indices': [0, 23]}]}, 'description': {'urls': []}}, 'protected': False, 'followers_count': 39, 'friends_count': 104, 'listed_count': 0, 'created_at': 'Mon Sep 21 12:29:50 +0000 2020', 'favourites_count': 441, 'utc_offset': None, 'time_zone': None, 'geo_enabled': True, 'verified': False, 'statuses_count': 606, 'lang': None, 'contributors_enabled': False, 'is_translator': False, 'is_translation_enabled': False, 'profile_background_color': 'F5F8FA', 'profile_background_image_url': None, 'profile_background_image_url_https': None, 'profile_background_tile': False, 'profile_image_url': 'http://pbs.twimg.com/profile_images/1308296800604844032/atj6QOwt_normal.jpg', 'profile_image_url_https': 'https://pbs.twimg.com/profile_images/1308296800604844032/atj6QOwt_normal.jpg', 'profile_banner_url': 'https://pbs.twimg.com/profile_banners/1308020517576740866/1600777183', 'profile_link_color': '1DA1F2', 'profile_sidebar_border_color': 'C0DEED', 'profile_sidebar_fill_color': 'DDEEF6', 'profile_text_color': '333333', 'profile_use_background_image': True, 'has_extended_profile': True, 'default_profile': True, 'default_profile_image': False, 'following': False, 'follow_request_sent': False, 'notifications': False, 'translator_type': 'none'}, 'geo': None, 'coordinates': None, 'place': None, 'contributors': None, 'is_quote_status': False, 'retweet_count': 0, 'favorite_count': 0, 'favorited': False, 'retweeted': False, 'possibly_sensitive': False, 'lang': 'en'}, created_at=datetime.datetime(2020, 11, 11, 11, 30, 14), id=1326487394007314432, id_str='1326487394007314432', full_text='The DC speedster wins the IPL 2020  Purple Cap for his lethal bowling accuracy and a nag for always picking wickets at the crucial time.\\n.\\n.\\n.\\n.\\n#fcl #fclgames #DC #fantasygames #fantasycricket #cricketlovers #cricketfever #ipl #ipl2020 #cricket #iplt20 #bethechampion #purplecap https://t.co/aRuuhDGTBO', truncated=False, display_text_range=[0, 279], entities={'hashtags': [{'text': 'fcl', 'indices': [145, 149]}, {'text': 'fclgames', 'indices': [150, 159]}, {'text': 'DC', 'indices': [160, 163]}, {'text': 'fantasygames', 'indices': [164, 177]}, {'text': 'fantasycricket', 'indices': [178, 193]}, {'text': 'cricketlovers', 'indices': [194, 208]}, {'text': 'cricketfever', 'indices': [209, 222]}, {'text': 'ipl', 'indices': [223, 227]}, {'text': 'ipl2020', 'indices': [228, 236]}, {'text': 'cricket', 'indices': [237, 245]}, {'text': 'iplt20', 'indices': [246, 253]}, {'text': 'bethechampion', 'indices': [254, 268]}, {'text': 'purplecap', 'indices': [269, 279]}], 'symbols': [], 'user_mentions': [], 'urls': [], 'media': [{'id': 1326487391234822145, 'id_str': '1326487391234822145', 'indices': [280, 303], 'media_url': 'http://pbs.twimg.com/media/EmihQRmWEAExDqU.jpg', 'media_url_https': 'https://pbs.twimg.com/media/EmihQRmWEAExDqU.jpg', 'url': 'https://t.co/aRuuhDGTBO', 'display_url': 'pic.twitter.com/aRuuhDGTBO', 'expanded_url': 'https://twitter.com/FCLgames/status/1326487394007314432/photo/1', 'type': 'photo', 'sizes': {'thumb': {'w': 150, 'h': 150, 'resize': 'crop'}, 'medium': {'w': 1200, 'h': 1199, 'resize': 'fit'}, 'small': {'w': 680, 'h': 680, 'resize': 'fit'}, 'large': {'w': 2048, 'h': 2047, 'resize': 'fit'}}}]}, extended_entities={'media': [{'id': 1326487391234822145, 'id_str': '1326487391234822145', 'indices': [280, 303], 'media_url': 'http://pbs.twimg.com/media/EmihQRmWEAExDqU.jpg', 'media_url_https': 'https://pbs.twimg.com/media/EmihQRmWEAExDqU.jpg', 'url': 'https://t.co/aRuuhDGTBO', 'display_url': 'pic.twitter.com/aRuuhDGTBO', 'expanded_url': 'https://twitter.com/FCLgames/status/1326487394007314432/photo/1', 'type': 'photo', 'sizes': {'thumb': {'w': 150, 'h': 150, 'resize': 'crop'}, 'medium': {'w': 1200, 'h': 1199, 'resize': 'fit'}, 'small': {'w': 680, 'h': 680, 'resize': 'fit'}, 'large': {'w': 2048, 'h': 2047, 'resize': 'fit'}}}]}, metadata={'iso_language_code': 'en', 'result_type': 'recent'}, source='Publer ', source_url='https://publer.io', in_reply_to_status_id=None, in_reply_to_status_id_str=None, in_reply_to_user_id=None, in_reply_to_user_id_str=None, in_reply_to_screen_name=None, author=User(_api=<tweepy.api.API object at 0x000001D7364E8400>, _json={'id': 1308020517576740866, 'id_str': '1308020517576740866', 'name': 'FCL Games', 'screen_name': 'FCLgames', 'location': '', 'description': 'To Play & win the grand bonus & exciting guaranteed prize on launch day, register now from the link given below.', 'url': 'https://t.co/ObRcwX33f3', 'entities': {'url': {'urls': [{'url': 'https://t.co/ObRcwX33f3', 'expanded_url': 'http://play.fclgames.com/', 'display_url': 'play.fclgames.com', 'indices': [0, 23]}]}, 'description': {'urls': []}}, 'protected': False, 'followers_count': 39, 'friends_count': 104, 'listed_count': 0, 'created_at': 'Mon Sep 21 12:29:50 +0000 2020', 'favourites_count': 441, 'utc_offset': None, 'time_zone': None, 'geo_enabled': True, 'verified': False, 'statuses_count': 606, 'lang': None, 'contributors_enabled': False, 'is_translator': False, 'is_translation_enabled': False, 'profile_background_color': 'F5F8FA', 'profile_background_image_url': None, 'profile_background_image_url_https': None, 'profile_background_tile': False, 'profile_image_url': 'http://pbs.twimg.com/profile_images/1308296800604844032/atj6QOwt_normal.jpg', 'profile_image_url_https': 'https://pbs.twimg.com/profile_images/1308296800604844032/atj6QOwt_normal.jpg', 'profile_banner_url': 'https://pbs.twimg.com/profile_banners/1308020517576740866/1600777183', 'profile_link_color': '1DA1F2', 'profile_sidebar_border_color': 'C0DEED', 'profile_sidebar_fill_color': 'DDEEF6', 'profile_text_color': '333333', 'profile_use_background_image': True, 'has_extended_profile': True, 'default_profile': True, 'default_profile_image': False, 'following': False, 'follow_request_sent': False, 'notifications': False, 'translator_type': 'none'}, id=1308020517576740866, id_str='1308020517576740866', name='FCL Games', screen_name='FCLgames', location='', description='To Play & win the grand bonus & exciting guaranteed prize on launch day, register now from the link given below.', url='https://t.co/ObRcwX33f3', entities={'url': {'urls': [{'url': 'https://t.co/ObRcwX33f3', 'expanded_url': 'http://play.fclgames.com/', 'display_url': 'play.fclgames.com', 'indices': [0, 23]}]}, 'description': {'urls': []}}, protected=False, followers_count=39, friends_count=104, listed_count=0, created_at=datetime.datetime(2020, 9, 21, 12, 29, 50), favourites_count=441, utc_offset=None, time_zone=None, geo_enabled=True, verified=False, statuses_count=606, lang=None, contributors_enabled=False, is_translator=False, is_translation_enabled=False, profile_background_color='F5F8FA', profile_background_image_url=None, profile_background_image_url_https=None, profile_background_tile=False, profile_image_url='http://pbs.twimg.com/profile_images/1308296800604844032/atj6QOwt_normal.jpg', profile_image_url_https='https://pbs.twimg.com/profile_images/1308296800604844032/atj6QOwt_normal.jpg', profile_banner_url='https://pbs.twimg.com/profile_banners/1308020517576740866/1600777183', profile_link_color='1DA1F2', profile_sidebar_border_color='C0DEED', profile_sidebar_fill_color='DDEEF6', profile_text_color='333333', profile_use_background_image=True, has_extended_profile=True, default_profile=True, default_profile_image=False, following=False, follow_request_sent=False, notifications=False, translator_type='none'), user=User(_api=<tweepy.api.API object at 0x000001D7364E8400>, _json={'id': 1308020517576740866, 'id_str': '1308020517576740866', 'name': 'FCL Games', 'screen_name': 'FCLgames', 'location': '', 'description': 'To Play & win the grand bonus & exciting guaranteed prize on launch day, register now from the link given below.', 'url': 'https://t.co/ObRcwX33f3', 'entities': {'url': {'urls': [{'url': 'https://t.co/ObRcwX33f3', 'expanded_url': 'http://play.fclgames.com/', 'display_url': 'play.fclgames.com', 'indices': [0, 23]}]}, 'description': {'urls': []}}, 'protected': False, 'followers_count': 39, 'friends_count': 104, 'listed_count': 0, 'created_at': 'Mon Sep 21 12:29:50 +0000 2020', 'favourites_count': 441, 'utc_offset': None, 'time_zone': None, 'geo_enabled': True, 'verified': False, 'statuses_count': 606, 'lang': None, 'contributors_enabled': False, 'is_translator': False, 'is_translation_enabled': False, 'profile_background_color': 'F5F8FA', 'profile_background_image_url': None, 'profile_background_image_url_https': None, 'profile_background_tile': False, 'profile_image_url': 'http://pbs.twimg.com/profile_images/1308296800604844032/atj6QOwt_normal.jpg', 'profile_image_url_https': 'https://pbs.twimg.com/profile_images/1308296800604844032/atj6QOwt_normal.jpg', 'profile_banner_url': 'https://pbs.twimg.com/profile_banners/1308020517576740866/1600777183', 'profile_link_color': '1DA1F2', 'profile_sidebar_border_color': 'C0DEED', 'profile_sidebar_fill_color': 'DDEEF6', 'profile_text_color': '333333', 'profile_use_background_image': True, 'has_extended_profile': True, 'default_profile': True, 'default_profile_image': False, 'following': False, 'follow_request_sent': False, 'notifications': False, 'translator_type': 'none'}, id=1308020517576740866, id_str='1308020517576740866', name='FCL Games', screen_name='FCLgames', location='', description='To Play & win the grand bonus & exciting guaranteed prize on launch day, register now from the link given below.', url='https://t.co/ObRcwX33f3', entities={'url': {'urls': [{'url': 'https://t.co/ObRcwX33f3', 'expanded_url': 'http://play.fclgames.com/', 'display_url': 'play.fclgames.com', 'indices': [0, 23]}]}, 'description': {'urls': []}}, protected=False, followers_count=39, friends_count=104, listed_count=0, created_at=datetime.datetime(2020, 9, 21, 12, 29, 50), favourites_count=441, utc_offset=None, time_zone=None, geo_enabled=True, verified=False, statuses_count=606, lang=None, contributors_enabled=False, is_translator=False, is_translation_enabled=False, profile_background_color='F5F8FA', profile_background_image_url=None, profile_background_image_url_https=None, profile_background_tile=False, profile_image_url='http://pbs.twimg.com/profile_images/1308296800604844032/atj6QOwt_normal.jpg', profile_image_url_https='https://pbs.twimg.com/profile_images/1308296800604844032/atj6QOwt_normal.jpg', profile_banner_url='https://pbs.twimg.com/profile_banners/1308020517576740866/1600777183', profile_link_color='1DA1F2', profile_sidebar_border_color='C0DEED', profile_sidebar_fill_color='DDEEF6', profile_text_color='333333', profile_use_background_image=True, has_extended_profile=True, default_profile=True, default_profile_image=False, following=False, follow_request_sent=False, notifications=False, translator_type='none'), geo=None, coordinates=None, place=None, contributors=None, is_quote_status=False, retweet_count=0, favorite_count=0, favorited=False, retweeted=False, possibly_sensitive=False, lang='en') \n",
      "\n",
      ".....................................\n",
      "\n",
      "Status(_api=<tweepy.api.API object at 0x000001D7364E8400>, _json={'created_at': 'Wed Nov 11 04:59:52 +0000 2020', 'id': 1326389154100498433, 'id_str': '1326389154100498433', 'full_text': 'IPL 2020 final, MI vs DC: Mumbai wins its fifth Indian Premier League\\xa0title https://t.co/g3qh5VJuib', 'truncated': False, 'display_text_range': [0, 99], 'entities': {'hashtags': [], 'symbols': [], 'user_mentions': [], 'urls': [{'url': 'https://t.co/g3qh5VJuib', 'expanded_url': 'https://indiabudget2018.wordpress.com/2020/11/11/ipl-2020-final-mi-vs-dc-mumbai-wins-its-fifth-indian-premier-league-title/', 'display_url': 'indiabudget2018.wordpress.com/2020/11/11/ipl…', 'indices': [76, 99]}]}, 'metadata': {'iso_language_code': 'en', 'result_type': 'recent'}, 'source': '<a href=\"http://publicize.wp.com/\" rel=\"nofollow\">WordPress.com</a>', 'in_reply_to_status_id': None, 'in_reply_to_status_id_str': None, 'in_reply_to_user_id': None, 'in_reply_to_user_id_str': None, 'in_reply_to_screen_name': None, 'user': {'id': 790883836276060161, 'id_str': '790883836276060161', 'name': 'Pakhi goyel', 'screen_name': 'aaliyagoyel1', 'location': 'Mumbai, India', 'description': 'Business standard news', 'url': None, 'entities': {'description': {'urls': []}}, 'protected': False, 'followers_count': 1503, 'friends_count': 2086, 'listed_count': 67, 'created_at': 'Tue Oct 25 11:52:55 +0000 2016', 'favourites_count': 3294, 'utc_offset': None, 'time_zone': None, 'geo_enabled': True, 'verified': False, 'statuses_count': 21687, 'lang': None, 'contributors_enabled': False, 'is_translator': False, 'is_translation_enabled': False, 'profile_background_color': '000000', 'profile_background_image_url': 'http://abs.twimg.com/images/themes/theme1/bg.png', 'profile_background_image_url_https': 'https://abs.twimg.com/images/themes/theme1/bg.png', 'profile_background_tile': False, 'profile_image_url': 'http://pbs.twimg.com/profile_images/1024878857499893761/QVUqQ5A9_normal.jpg', 'profile_image_url_https': 'https://pbs.twimg.com/profile_images/1024878857499893761/QVUqQ5A9_normal.jpg', 'profile_link_color': 'E81C4F', 'profile_sidebar_border_color': '000000', 'profile_sidebar_fill_color': '000000', 'profile_text_color': '000000', 'profile_use_background_image': False, 'has_extended_profile': True, 'default_profile': False, 'default_profile_image': False, 'following': False, 'follow_request_sent': False, 'notifications': False, 'translator_type': 'none'}, 'geo': None, 'coordinates': None, 'place': None, 'contributors': None, 'is_quote_status': False, 'retweet_count': 0, 'favorite_count': 0, 'favorited': False, 'retweeted': False, 'possibly_sensitive': False, 'lang': 'en'}, created_at=datetime.datetime(2020, 11, 11, 4, 59, 52), id=1326389154100498433, id_str='1326389154100498433', full_text='IPL 2020 final, MI vs DC: Mumbai wins its fifth Indian Premier League\\xa0title https://t.co/g3qh5VJuib', truncated=False, display_text_range=[0, 99], entities={'hashtags': [], 'symbols': [], 'user_mentions': [], 'urls': [{'url': 'https://t.co/g3qh5VJuib', 'expanded_url': 'https://indiabudget2018.wordpress.com/2020/11/11/ipl-2020-final-mi-vs-dc-mumbai-wins-its-fifth-indian-premier-league-title/', 'display_url': 'indiabudget2018.wordpress.com/2020/11/11/ipl…', 'indices': [76, 99]}]}, metadata={'iso_language_code': 'en', 'result_type': 'recent'}, source='WordPress.com', source_url='http://publicize.wp.com/', in_reply_to_status_id=None, in_reply_to_status_id_str=None, in_reply_to_user_id=None, in_reply_to_user_id_str=None, in_reply_to_screen_name=None, author=User(_api=<tweepy.api.API object at 0x000001D7364E8400>, _json={'id': 790883836276060161, 'id_str': '790883836276060161', 'name': 'Pakhi goyel', 'screen_name': 'aaliyagoyel1', 'location': 'Mumbai, India', 'description': 'Business standard news', 'url': None, 'entities': {'description': {'urls': []}}, 'protected': False, 'followers_count': 1503, 'friends_count': 2086, 'listed_count': 67, 'created_at': 'Tue Oct 25 11:52:55 +0000 2016', 'favourites_count': 3294, 'utc_offset': None, 'time_zone': None, 'geo_enabled': True, 'verified': False, 'statuses_count': 21687, 'lang': None, 'contributors_enabled': False, 'is_translator': False, 'is_translation_enabled': False, 'profile_background_color': '000000', 'profile_background_image_url': 'http://abs.twimg.com/images/themes/theme1/bg.png', 'profile_background_image_url_https': 'https://abs.twimg.com/images/themes/theme1/bg.png', 'profile_background_tile': False, 'profile_image_url': 'http://pbs.twimg.com/profile_images/1024878857499893761/QVUqQ5A9_normal.jpg', 'profile_image_url_https': 'https://pbs.twimg.com/profile_images/1024878857499893761/QVUqQ5A9_normal.jpg', 'profile_link_color': 'E81C4F', 'profile_sidebar_border_color': '000000', 'profile_sidebar_fill_color': '000000', 'profile_text_color': '000000', 'profile_use_background_image': False, 'has_extended_profile': True, 'default_profile': False, 'default_profile_image': False, 'following': False, 'follow_request_sent': False, 'notifications': False, 'translator_type': 'none'}, id=790883836276060161, id_str='790883836276060161', name='Pakhi goyel', screen_name='aaliyagoyel1', location='Mumbai, India', description='Business standard news', url=None, entities={'description': {'urls': []}}, protected=False, followers_count=1503, friends_count=2086, listed_count=67, created_at=datetime.datetime(2016, 10, 25, 11, 52, 55), favourites_count=3294, utc_offset=None, time_zone=None, geo_enabled=True, verified=False, statuses_count=21687, lang=None, contributors_enabled=False, is_translator=False, is_translation_enabled=False, profile_background_color='000000', profile_background_image_url='http://abs.twimg.com/images/themes/theme1/bg.png', profile_background_image_url_https='https://abs.twimg.com/images/themes/theme1/bg.png', profile_background_tile=False, profile_image_url='http://pbs.twimg.com/profile_images/1024878857499893761/QVUqQ5A9_normal.jpg', profile_image_url_https='https://pbs.twimg.com/profile_images/1024878857499893761/QVUqQ5A9_normal.jpg', profile_link_color='E81C4F', profile_sidebar_border_color='000000', profile_sidebar_fill_color='000000', profile_text_color='000000', profile_use_background_image=False, has_extended_profile=True, default_profile=False, default_profile_image=False, following=False, follow_request_sent=False, notifications=False, translator_type='none'), user=User(_api=<tweepy.api.API object at 0x000001D7364E8400>, _json={'id': 790883836276060161, 'id_str': '790883836276060161', 'name': 'Pakhi goyel', 'screen_name': 'aaliyagoyel1', 'location': 'Mumbai, India', 'description': 'Business standard news', 'url': None, 'entities': {'description': {'urls': []}}, 'protected': False, 'followers_count': 1503, 'friends_count': 2086, 'listed_count': 67, 'created_at': 'Tue Oct 25 11:52:55 +0000 2016', 'favourites_count': 3294, 'utc_offset': None, 'time_zone': None, 'geo_enabled': True, 'verified': False, 'statuses_count': 21687, 'lang': None, 'contributors_enabled': False, 'is_translator': False, 'is_translation_enabled': False, 'profile_background_color': '000000', 'profile_background_image_url': 'http://abs.twimg.com/images/themes/theme1/bg.png', 'profile_background_image_url_https': 'https://abs.twimg.com/images/themes/theme1/bg.png', 'profile_background_tile': False, 'profile_image_url': 'http://pbs.twimg.com/profile_images/1024878857499893761/QVUqQ5A9_normal.jpg', 'profile_image_url_https': 'https://pbs.twimg.com/profile_images/1024878857499893761/QVUqQ5A9_normal.jpg', 'profile_link_color': 'E81C4F', 'profile_sidebar_border_color': '000000', 'profile_sidebar_fill_color': '000000', 'profile_text_color': '000000', 'profile_use_background_image': False, 'has_extended_profile': True, 'default_profile': False, 'default_profile_image': False, 'following': False, 'follow_request_sent': False, 'notifications': False, 'translator_type': 'none'}, id=790883836276060161, id_str='790883836276060161', name='Pakhi goyel', screen_name='aaliyagoyel1', location='Mumbai, India', description='Business standard news', url=None, entities={'description': {'urls': []}}, protected=False, followers_count=1503, friends_count=2086, listed_count=67, created_at=datetime.datetime(2016, 10, 25, 11, 52, 55), favourites_count=3294, utc_offset=None, time_zone=None, geo_enabled=True, verified=False, statuses_count=21687, lang=None, contributors_enabled=False, is_translator=False, is_translation_enabled=False, profile_background_color='000000', profile_background_image_url='http://abs.twimg.com/images/themes/theme1/bg.png', profile_background_image_url_https='https://abs.twimg.com/images/themes/theme1/bg.png', profile_background_tile=False, profile_image_url='http://pbs.twimg.com/profile_images/1024878857499893761/QVUqQ5A9_normal.jpg', profile_image_url_https='https://pbs.twimg.com/profile_images/1024878857499893761/QVUqQ5A9_normal.jpg', profile_link_color='E81C4F', profile_sidebar_border_color='000000', profile_sidebar_fill_color='000000', profile_text_color='000000', profile_use_background_image=False, has_extended_profile=True, default_profile=False, default_profile_image=False, following=False, follow_request_sent=False, notifications=False, translator_type='none'), geo=None, coordinates=None, place=None, contributors=None, is_quote_status=False, retweet_count=0, favorite_count=0, favorited=False, retweeted=False, possibly_sensitive=False, lang='en') \n",
      "\n",
      ".....................................\n",
      "\n",
      "Status(_api=<tweepy.api.API object at 0x000001D7364E8400>, _json={'created_at': 'Wed Nov 11 01:30:00 +0000 2020', 'id': 1326336340011544576, 'id_str': '1326336340011544576', 'full_text': '\"Our work started long before the IPL started, and we wanted to make sure we filled the gaps from previous seasons\" -#MI skipper Rohit Sharma after his side lifted its 5th IPL title. #MIvDC #IPL2020\\n\\nhttps://t.co/t6eAkpSNOR', 'truncated': False, 'display_text_range': [0, 223], 'entities': {'hashtags': [{'text': 'MI', 'indices': [117, 120]}, {'text': 'MIvDC', 'indices': [183, 189]}, {'text': 'IPL2020', 'indices': [190, 198]}], 'symbols': [], 'user_mentions': [], 'urls': [{'url': 'https://t.co/t6eAkpSNOR', 'expanded_url': 'https://sportstar.thehindu.com/cricket/ipl/ipl-news/ipl-2020-final-mi-vs-dc-aim-was-to-create-the-winning-habit-rohit-sharma-after-mumbai-wins-record-fifth-ipl-title-trent-boult-shreyas-iyer-hardik-pandya/article33069940.ece', 'display_url': 'sportstar.thehindu.com/cricket/ipl/ip…', 'indices': [200, 223]}]}, 'metadata': {'iso_language_code': 'en', 'result_type': 'recent'}, 'source': '<a href=\"https://mobile.twitter.com\" rel=\"nofollow\">Twitter Web App</a>', 'in_reply_to_status_id': None, 'in_reply_to_status_id_str': None, 'in_reply_to_user_id': None, 'in_reply_to_user_id_str': None, 'in_reply_to_screen_name': None, 'user': {'id': 3367687273, 'id_str': '3367687273', 'name': 'Sportstar', 'screen_name': 'sportstarweb', 'location': '', 'description': \"India's No. 1 sports magazine\\n\\nFacebook: https://t.co/WfNu0oMZUQ Instagram: https://t.co/SHHJMVhpuC Telegram: https://t.co/a4a2GbLUWs YouTube: https://t.co/IorvIAiMQI\", 'url': 'https://t.co/gNkpUP9Ft0', 'entities': {'url': {'urls': [{'url': 'https://t.co/gNkpUP9Ft0', 'expanded_url': 'https://sportstar.thehindu.com', 'display_url': 'sportstar.thehindu.com', 'indices': [0, 23]}]}, 'description': {'urls': [{'url': 'https://t.co/WfNu0oMZUQ', 'expanded_url': 'http://tinyurl.com/y8s7at67', 'display_url': 'tinyurl.com/y8s7at67', 'indices': [41, 64]}, {'url': 'https://t.co/SHHJMVhpuC', 'expanded_url': 'http://tinyurl.com/yabpx2zt', 'display_url': 'tinyurl.com/yabpx2zt', 'indices': [76, 99]}, {'url': 'https://t.co/a4a2GbLUWs', 'expanded_url': 'http://t.me/sportstarweb', 'display_url': 't.me/sportstarweb', 'indices': [110, 133]}, {'url': 'https://t.co/IorvIAiMQI', 'expanded_url': 'http://tinyurl.com/sp6tun9', 'display_url': 'tinyurl.com/sp6tun9', 'indices': [143, 166]}]}}, 'protected': False, 'followers_count': 24630, 'friends_count': 417, 'listed_count': 167, 'created_at': 'Fri Aug 28 06:22:18 +0000 2015', 'favourites_count': 625, 'utc_offset': None, 'time_zone': None, 'geo_enabled': True, 'verified': True, 'statuses_count': 112594, 'lang': None, 'contributors_enabled': False, 'is_translator': False, 'is_translation_enabled': False, 'profile_background_color': 'C0DEED', 'profile_background_image_url': 'http://abs.twimg.com/images/themes/theme1/bg.png', 'profile_background_image_url_https': 'https://abs.twimg.com/images/themes/theme1/bg.png', 'profile_background_tile': False, 'profile_image_url': 'http://pbs.twimg.com/profile_images/1046752620239437824/tPzSm8b8_normal.jpg', 'profile_image_url_https': 'https://pbs.twimg.com/profile_images/1046752620239437824/tPzSm8b8_normal.jpg', 'profile_banner_url': 'https://pbs.twimg.com/profile_banners/3367687273/1599031877', 'profile_link_color': 'FF0000', 'profile_sidebar_border_color': '000000', 'profile_sidebar_fill_color': '000000', 'profile_text_color': '000000', 'profile_use_background_image': True, 'has_extended_profile': False, 'default_profile': False, 'default_profile_image': False, 'following': False, 'follow_request_sent': False, 'notifications': False, 'translator_type': 'none'}, 'geo': None, 'coordinates': None, 'place': None, 'contributors': None, 'is_quote_status': False, 'retweet_count': 2, 'favorite_count': 9, 'favorited': False, 'retweeted': False, 'possibly_sensitive': False, 'lang': 'en'}, created_at=datetime.datetime(2020, 11, 11, 1, 30), id=1326336340011544576, id_str='1326336340011544576', full_text='\"Our work started long before the IPL started, and we wanted to make sure we filled the gaps from previous seasons\" -#MI skipper Rohit Sharma after his side lifted its 5th IPL title. #MIvDC #IPL2020\\n\\nhttps://t.co/t6eAkpSNOR', truncated=False, display_text_range=[0, 223], entities={'hashtags': [{'text': 'MI', 'indices': [117, 120]}, {'text': 'MIvDC', 'indices': [183, 189]}, {'text': 'IPL2020', 'indices': [190, 198]}], 'symbols': [], 'user_mentions': [], 'urls': [{'url': 'https://t.co/t6eAkpSNOR', 'expanded_url': 'https://sportstar.thehindu.com/cricket/ipl/ipl-news/ipl-2020-final-mi-vs-dc-aim-was-to-create-the-winning-habit-rohit-sharma-after-mumbai-wins-record-fifth-ipl-title-trent-boult-shreyas-iyer-hardik-pandya/article33069940.ece', 'display_url': 'sportstar.thehindu.com/cricket/ipl/ip…', 'indices': [200, 223]}]}, metadata={'iso_language_code': 'en', 'result_type': 'recent'}, source='Twitter Web App', source_url='https://mobile.twitter.com', in_reply_to_status_id=None, in_reply_to_status_id_str=None, in_reply_to_user_id=None, in_reply_to_user_id_str=None, in_reply_to_screen_name=None, author=User(_api=<tweepy.api.API object at 0x000001D7364E8400>, _json={'id': 3367687273, 'id_str': '3367687273', 'name': 'Sportstar', 'screen_name': 'sportstarweb', 'location': '', 'description': \"India's No. 1 sports magazine\\n\\nFacebook: https://t.co/WfNu0oMZUQ Instagram: https://t.co/SHHJMVhpuC Telegram: https://t.co/a4a2GbLUWs YouTube: https://t.co/IorvIAiMQI\", 'url': 'https://t.co/gNkpUP9Ft0', 'entities': {'url': {'urls': [{'url': 'https://t.co/gNkpUP9Ft0', 'expanded_url': 'https://sportstar.thehindu.com', 'display_url': 'sportstar.thehindu.com', 'indices': [0, 23]}]}, 'description': {'urls': [{'url': 'https://t.co/WfNu0oMZUQ', 'expanded_url': 'http://tinyurl.com/y8s7at67', 'display_url': 'tinyurl.com/y8s7at67', 'indices': [41, 64]}, {'url': 'https://t.co/SHHJMVhpuC', 'expanded_url': 'http://tinyurl.com/yabpx2zt', 'display_url': 'tinyurl.com/yabpx2zt', 'indices': [76, 99]}, {'url': 'https://t.co/a4a2GbLUWs', 'expanded_url': 'http://t.me/sportstarweb', 'display_url': 't.me/sportstarweb', 'indices': [110, 133]}, {'url': 'https://t.co/IorvIAiMQI', 'expanded_url': 'http://tinyurl.com/sp6tun9', 'display_url': 'tinyurl.com/sp6tun9', 'indices': [143, 166]}]}}, 'protected': False, 'followers_count': 24630, 'friends_count': 417, 'listed_count': 167, 'created_at': 'Fri Aug 28 06:22:18 +0000 2015', 'favourites_count': 625, 'utc_offset': None, 'time_zone': None, 'geo_enabled': True, 'verified': True, 'statuses_count': 112594, 'lang': None, 'contributors_enabled': False, 'is_translator': False, 'is_translation_enabled': False, 'profile_background_color': 'C0DEED', 'profile_background_image_url': 'http://abs.twimg.com/images/themes/theme1/bg.png', 'profile_background_image_url_https': 'https://abs.twimg.com/images/themes/theme1/bg.png', 'profile_background_tile': False, 'profile_image_url': 'http://pbs.twimg.com/profile_images/1046752620239437824/tPzSm8b8_normal.jpg', 'profile_image_url_https': 'https://pbs.twimg.com/profile_images/1046752620239437824/tPzSm8b8_normal.jpg', 'profile_banner_url': 'https://pbs.twimg.com/profile_banners/3367687273/1599031877', 'profile_link_color': 'FF0000', 'profile_sidebar_border_color': '000000', 'profile_sidebar_fill_color': '000000', 'profile_text_color': '000000', 'profile_use_background_image': True, 'has_extended_profile': False, 'default_profile': False, 'default_profile_image': False, 'following': False, 'follow_request_sent': False, 'notifications': False, 'translator_type': 'none'}, id=3367687273, id_str='3367687273', name='Sportstar', screen_name='sportstarweb', location='', description=\"India's No. 1 sports magazine\\n\\nFacebook: https://t.co/WfNu0oMZUQ Instagram: https://t.co/SHHJMVhpuC Telegram: https://t.co/a4a2GbLUWs YouTube: https://t.co/IorvIAiMQI\", url='https://t.co/gNkpUP9Ft0', entities={'url': {'urls': [{'url': 'https://t.co/gNkpUP9Ft0', 'expanded_url': 'https://sportstar.thehindu.com', 'display_url': 'sportstar.thehindu.com', 'indices': [0, 23]}]}, 'description': {'urls': [{'url': 'https://t.co/WfNu0oMZUQ', 'expanded_url': 'http://tinyurl.com/y8s7at67', 'display_url': 'tinyurl.com/y8s7at67', 'indices': [41, 64]}, {'url': 'https://t.co/SHHJMVhpuC', 'expanded_url': 'http://tinyurl.com/yabpx2zt', 'display_url': 'tinyurl.com/yabpx2zt', 'indices': [76, 99]}, {'url': 'https://t.co/a4a2GbLUWs', 'expanded_url': 'http://t.me/sportstarweb', 'display_url': 't.me/sportstarweb', 'indices': [110, 133]}, {'url': 'https://t.co/IorvIAiMQI', 'expanded_url': 'http://tinyurl.com/sp6tun9', 'display_url': 'tinyurl.com/sp6tun9', 'indices': [143, 166]}]}}, protected=False, followers_count=24630, friends_count=417, listed_count=167, created_at=datetime.datetime(2015, 8, 28, 6, 22, 18), favourites_count=625, utc_offset=None, time_zone=None, geo_enabled=True, verified=True, statuses_count=112594, lang=None, contributors_enabled=False, is_translator=False, is_translation_enabled=False, profile_background_color='C0DEED', profile_background_image_url='http://abs.twimg.com/images/themes/theme1/bg.png', profile_background_image_url_https='https://abs.twimg.com/images/themes/theme1/bg.png', profile_background_tile=False, profile_image_url='http://pbs.twimg.com/profile_images/1046752620239437824/tPzSm8b8_normal.jpg', profile_image_url_https='https://pbs.twimg.com/profile_images/1046752620239437824/tPzSm8b8_normal.jpg', profile_banner_url='https://pbs.twimg.com/profile_banners/3367687273/1599031877', profile_link_color='FF0000', profile_sidebar_border_color='000000', profile_sidebar_fill_color='000000', profile_text_color='000000', profile_use_background_image=True, has_extended_profile=False, default_profile=False, default_profile_image=False, following=False, follow_request_sent=False, notifications=False, translator_type='none'), user=User(_api=<tweepy.api.API object at 0x000001D7364E8400>, _json={'id': 3367687273, 'id_str': '3367687273', 'name': 'Sportstar', 'screen_name': 'sportstarweb', 'location': '', 'description': \"India's No. 1 sports magazine\\n\\nFacebook: https://t.co/WfNu0oMZUQ Instagram: https://t.co/SHHJMVhpuC Telegram: https://t.co/a4a2GbLUWs YouTube: https://t.co/IorvIAiMQI\", 'url': 'https://t.co/gNkpUP9Ft0', 'entities': {'url': {'urls': [{'url': 'https://t.co/gNkpUP9Ft0', 'expanded_url': 'https://sportstar.thehindu.com', 'display_url': 'sportstar.thehindu.com', 'indices': [0, 23]}]}, 'description': {'urls': [{'url': 'https://t.co/WfNu0oMZUQ', 'expanded_url': 'http://tinyurl.com/y8s7at67', 'display_url': 'tinyurl.com/y8s7at67', 'indices': [41, 64]}, {'url': 'https://t.co/SHHJMVhpuC', 'expanded_url': 'http://tinyurl.com/yabpx2zt', 'display_url': 'tinyurl.com/yabpx2zt', 'indices': [76, 99]}, {'url': 'https://t.co/a4a2GbLUWs', 'expanded_url': 'http://t.me/sportstarweb', 'display_url': 't.me/sportstarweb', 'indices': [110, 133]}, {'url': 'https://t.co/IorvIAiMQI', 'expanded_url': 'http://tinyurl.com/sp6tun9', 'display_url': 'tinyurl.com/sp6tun9', 'indices': [143, 166]}]}}, 'protected': False, 'followers_count': 24630, 'friends_count': 417, 'listed_count': 167, 'created_at': 'Fri Aug 28 06:22:18 +0000 2015', 'favourites_count': 625, 'utc_offset': None, 'time_zone': None, 'geo_enabled': True, 'verified': True, 'statuses_count': 112594, 'lang': None, 'contributors_enabled': False, 'is_translator': False, 'is_translation_enabled': False, 'profile_background_color': 'C0DEED', 'profile_background_image_url': 'http://abs.twimg.com/images/themes/theme1/bg.png', 'profile_background_image_url_https': 'https://abs.twimg.com/images/themes/theme1/bg.png', 'profile_background_tile': False, 'profile_image_url': 'http://pbs.twimg.com/profile_images/1046752620239437824/tPzSm8b8_normal.jpg', 'profile_image_url_https': 'https://pbs.twimg.com/profile_images/1046752620239437824/tPzSm8b8_normal.jpg', 'profile_banner_url': 'https://pbs.twimg.com/profile_banners/3367687273/1599031877', 'profile_link_color': 'FF0000', 'profile_sidebar_border_color': '000000', 'profile_sidebar_fill_color': '000000', 'profile_text_color': '000000', 'profile_use_background_image': True, 'has_extended_profile': False, 'default_profile': False, 'default_profile_image': False, 'following': False, 'follow_request_sent': False, 'notifications': False, 'translator_type': 'none'}, id=3367687273, id_str='3367687273', name='Sportstar', screen_name='sportstarweb', location='', description=\"India's No. 1 sports magazine\\n\\nFacebook: https://t.co/WfNu0oMZUQ Instagram: https://t.co/SHHJMVhpuC Telegram: https://t.co/a4a2GbLUWs YouTube: https://t.co/IorvIAiMQI\", url='https://t.co/gNkpUP9Ft0', entities={'url': {'urls': [{'url': 'https://t.co/gNkpUP9Ft0', 'expanded_url': 'https://sportstar.thehindu.com', 'display_url': 'sportstar.thehindu.com', 'indices': [0, 23]}]}, 'description': {'urls': [{'url': 'https://t.co/WfNu0oMZUQ', 'expanded_url': 'http://tinyurl.com/y8s7at67', 'display_url': 'tinyurl.com/y8s7at67', 'indices': [41, 64]}, {'url': 'https://t.co/SHHJMVhpuC', 'expanded_url': 'http://tinyurl.com/yabpx2zt', 'display_url': 'tinyurl.com/yabpx2zt', 'indices': [76, 99]}, {'url': 'https://t.co/a4a2GbLUWs', 'expanded_url': 'http://t.me/sportstarweb', 'display_url': 't.me/sportstarweb', 'indices': [110, 133]}, {'url': 'https://t.co/IorvIAiMQI', 'expanded_url': 'http://tinyurl.com/sp6tun9', 'display_url': 'tinyurl.com/sp6tun9', 'indices': [143, 166]}]}}, protected=False, followers_count=24630, friends_count=417, listed_count=167, created_at=datetime.datetime(2015, 8, 28, 6, 22, 18), favourites_count=625, utc_offset=None, time_zone=None, geo_enabled=True, verified=True, statuses_count=112594, lang=None, contributors_enabled=False, is_translator=False, is_translation_enabled=False, profile_background_color='C0DEED', profile_background_image_url='http://abs.twimg.com/images/themes/theme1/bg.png', profile_background_image_url_https='https://abs.twimg.com/images/themes/theme1/bg.png', profile_background_tile=False, profile_image_url='http://pbs.twimg.com/profile_images/1046752620239437824/tPzSm8b8_normal.jpg', profile_image_url_https='https://pbs.twimg.com/profile_images/1046752620239437824/tPzSm8b8_normal.jpg', profile_banner_url='https://pbs.twimg.com/profile_banners/3367687273/1599031877', profile_link_color='FF0000', profile_sidebar_border_color='000000', profile_sidebar_fill_color='000000', profile_text_color='000000', profile_use_background_image=True, has_extended_profile=False, default_profile=False, default_profile_image=False, following=False, follow_request_sent=False, notifications=False, translator_type='none'), geo=None, coordinates=None, place=None, contributors=None, is_quote_status=False, retweet_count=2, favorite_count=9, favorited=False, retweeted=False, possibly_sensitive=False, lang='en') \n",
      "\n",
      ".....................................\n",
      "\n",
      "Status(_api=<tweepy.api.API object at 0x000001D7364E8400>, _json={'created_at': 'Wed Nov 11 00:59:42 +0000 2020', 'id': 1326328716172042240, 'id_str': '1326328716172042240', 'full_text': \"#mumbaiindians wins the IPL 2020 for the fifth time. DC still have to wait to open their trophy count. \\nDC registered it's 4th loss against MI this season. MI deserved the top spot with sheer dominance and DC were just better than other teams at 2nd. #DelhiCapitals #IPLfinal\", 'truncated': False, 'display_text_range': [0, 275], 'entities': {'hashtags': [{'text': 'mumbaiindians', 'indices': [0, 14]}, {'text': 'DelhiCapitals', 'indices': [251, 265]}, {'text': 'IPLfinal', 'indices': [266, 275]}], 'symbols': [], 'user_mentions': [], 'urls': []}, 'metadata': {'iso_language_code': 'en', 'result_type': 'recent'}, 'source': '<a href=\"http://twitter.com/download/android\" rel=\"nofollow\">Twitter for Android</a>', 'in_reply_to_status_id': None, 'in_reply_to_status_id_str': None, 'in_reply_to_user_id': None, 'in_reply_to_user_id_str': None, 'in_reply_to_screen_name': None, 'user': {'id': 1302270720517353473, 'id_str': '1302270720517353473', 'name': \"what's in the name\", 'screen_name': 'the_intolerant1', 'location': 'India', 'description': 'BHARATIYA NAGRIK\\nParody account || PERSONAL VIEWS || \\nRT= ENDORSEMENTS. \\n\\nJAI SHREE RAM 🚩🚩', 'url': None, 'entities': {'description': {'urls': []}}, 'protected': False, 'followers_count': 1, 'friends_count': 18, 'listed_count': 0, 'created_at': 'Sat Sep 05 15:42:01 +0000 2020', 'favourites_count': 5, 'utc_offset': None, 'time_zone': None, 'geo_enabled': False, 'verified': False, 'statuses_count': 11, 'lang': None, 'contributors_enabled': False, 'is_translator': False, 'is_translation_enabled': False, 'profile_background_color': 'F5F8FA', 'profile_background_image_url': None, 'profile_background_image_url_https': None, 'profile_background_tile': False, 'profile_image_url': 'http://pbs.twimg.com/profile_images/1302273315478712321/vKokSLXi_normal.jpg', 'profile_image_url_https': 'https://pbs.twimg.com/profile_images/1302273315478712321/vKokSLXi_normal.jpg', 'profile_banner_url': 'https://pbs.twimg.com/profile_banners/1302270720517353473/1599321182', 'profile_link_color': '1DA1F2', 'profile_sidebar_border_color': 'C0DEED', 'profile_sidebar_fill_color': 'DDEEF6', 'profile_text_color': '333333', 'profile_use_background_image': True, 'has_extended_profile': True, 'default_profile': True, 'default_profile_image': False, 'following': False, 'follow_request_sent': False, 'notifications': False, 'translator_type': 'none'}, 'geo': None, 'coordinates': None, 'place': None, 'contributors': None, 'is_quote_status': False, 'retweet_count': 0, 'favorite_count': 1, 'favorited': False, 'retweeted': False, 'lang': 'en'}, created_at=datetime.datetime(2020, 11, 11, 0, 59, 42), id=1326328716172042240, id_str='1326328716172042240', full_text=\"#mumbaiindians wins the IPL 2020 for the fifth time. DC still have to wait to open their trophy count. \\nDC registered it's 4th loss against MI this season. MI deserved the top spot with sheer dominance and DC were just better than other teams at 2nd. #DelhiCapitals #IPLfinal\", truncated=False, display_text_range=[0, 275], entities={'hashtags': [{'text': 'mumbaiindians', 'indices': [0, 14]}, {'text': 'DelhiCapitals', 'indices': [251, 265]}, {'text': 'IPLfinal', 'indices': [266, 275]}], 'symbols': [], 'user_mentions': [], 'urls': []}, metadata={'iso_language_code': 'en', 'result_type': 'recent'}, source='Twitter for Android', source_url='http://twitter.com/download/android', in_reply_to_status_id=None, in_reply_to_status_id_str=None, in_reply_to_user_id=None, in_reply_to_user_id_str=None, in_reply_to_screen_name=None, author=User(_api=<tweepy.api.API object at 0x000001D7364E8400>, _json={'id': 1302270720517353473, 'id_str': '1302270720517353473', 'name': \"what's in the name\", 'screen_name': 'the_intolerant1', 'location': 'India', 'description': 'BHARATIYA NAGRIK\\nParody account || PERSONAL VIEWS || \\nRT= ENDORSEMENTS. \\n\\nJAI SHREE RAM 🚩🚩', 'url': None, 'entities': {'description': {'urls': []}}, 'protected': False, 'followers_count': 1, 'friends_count': 18, 'listed_count': 0, 'created_at': 'Sat Sep 05 15:42:01 +0000 2020', 'favourites_count': 5, 'utc_offset': None, 'time_zone': None, 'geo_enabled': False, 'verified': False, 'statuses_count': 11, 'lang': None, 'contributors_enabled': False, 'is_translator': False, 'is_translation_enabled': False, 'profile_background_color': 'F5F8FA', 'profile_background_image_url': None, 'profile_background_image_url_https': None, 'profile_background_tile': False, 'profile_image_url': 'http://pbs.twimg.com/profile_images/1302273315478712321/vKokSLXi_normal.jpg', 'profile_image_url_https': 'https://pbs.twimg.com/profile_images/1302273315478712321/vKokSLXi_normal.jpg', 'profile_banner_url': 'https://pbs.twimg.com/profile_banners/1302270720517353473/1599321182', 'profile_link_color': '1DA1F2', 'profile_sidebar_border_color': 'C0DEED', 'profile_sidebar_fill_color': 'DDEEF6', 'profile_text_color': '333333', 'profile_use_background_image': True, 'has_extended_profile': True, 'default_profile': True, 'default_profile_image': False, 'following': False, 'follow_request_sent': False, 'notifications': False, 'translator_type': 'none'}, id=1302270720517353473, id_str='1302270720517353473', name=\"what's in the name\", screen_name='the_intolerant1', location='India', description='BHARATIYA NAGRIK\\nParody account || PERSONAL VIEWS || \\nRT= ENDORSEMENTS. \\n\\nJAI SHREE RAM 🚩🚩', url=None, entities={'description': {'urls': []}}, protected=False, followers_count=1, friends_count=18, listed_count=0, created_at=datetime.datetime(2020, 9, 5, 15, 42, 1), favourites_count=5, utc_offset=None, time_zone=None, geo_enabled=False, verified=False, statuses_count=11, lang=None, contributors_enabled=False, is_translator=False, is_translation_enabled=False, profile_background_color='F5F8FA', profile_background_image_url=None, profile_background_image_url_https=None, profile_background_tile=False, profile_image_url='http://pbs.twimg.com/profile_images/1302273315478712321/vKokSLXi_normal.jpg', profile_image_url_https='https://pbs.twimg.com/profile_images/1302273315478712321/vKokSLXi_normal.jpg', profile_banner_url='https://pbs.twimg.com/profile_banners/1302270720517353473/1599321182', profile_link_color='1DA1F2', profile_sidebar_border_color='C0DEED', profile_sidebar_fill_color='DDEEF6', profile_text_color='333333', profile_use_background_image=True, has_extended_profile=True, default_profile=True, default_profile_image=False, following=False, follow_request_sent=False, notifications=False, translator_type='none'), user=User(_api=<tweepy.api.API object at 0x000001D7364E8400>, _json={'id': 1302270720517353473, 'id_str': '1302270720517353473', 'name': \"what's in the name\", 'screen_name': 'the_intolerant1', 'location': 'India', 'description': 'BHARATIYA NAGRIK\\nParody account || PERSONAL VIEWS || \\nRT= ENDORSEMENTS. \\n\\nJAI SHREE RAM 🚩🚩', 'url': None, 'entities': {'description': {'urls': []}}, 'protected': False, 'followers_count': 1, 'friends_count': 18, 'listed_count': 0, 'created_at': 'Sat Sep 05 15:42:01 +0000 2020', 'favourites_count': 5, 'utc_offset': None, 'time_zone': None, 'geo_enabled': False, 'verified': False, 'statuses_count': 11, 'lang': None, 'contributors_enabled': False, 'is_translator': False, 'is_translation_enabled': False, 'profile_background_color': 'F5F8FA', 'profile_background_image_url': None, 'profile_background_image_url_https': None, 'profile_background_tile': False, 'profile_image_url': 'http://pbs.twimg.com/profile_images/1302273315478712321/vKokSLXi_normal.jpg', 'profile_image_url_https': 'https://pbs.twimg.com/profile_images/1302273315478712321/vKokSLXi_normal.jpg', 'profile_banner_url': 'https://pbs.twimg.com/profile_banners/1302270720517353473/1599321182', 'profile_link_color': '1DA1F2', 'profile_sidebar_border_color': 'C0DEED', 'profile_sidebar_fill_color': 'DDEEF6', 'profile_text_color': '333333', 'profile_use_background_image': True, 'has_extended_profile': True, 'default_profile': True, 'default_profile_image': False, 'following': False, 'follow_request_sent': False, 'notifications': False, 'translator_type': 'none'}, id=1302270720517353473, id_str='1302270720517353473', name=\"what's in the name\", screen_name='the_intolerant1', location='India', description='BHARATIYA NAGRIK\\nParody account || PERSONAL VIEWS || \\nRT= ENDORSEMENTS. \\n\\nJAI SHREE RAM 🚩🚩', url=None, entities={'description': {'urls': []}}, protected=False, followers_count=1, friends_count=18, listed_count=0, created_at=datetime.datetime(2020, 9, 5, 15, 42, 1), favourites_count=5, utc_offset=None, time_zone=None, geo_enabled=False, verified=False, statuses_count=11, lang=None, contributors_enabled=False, is_translator=False, is_translation_enabled=False, profile_background_color='F5F8FA', profile_background_image_url=None, profile_background_image_url_https=None, profile_background_tile=False, profile_image_url='http://pbs.twimg.com/profile_images/1302273315478712321/vKokSLXi_normal.jpg', profile_image_url_https='https://pbs.twimg.com/profile_images/1302273315478712321/vKokSLXi_normal.jpg', profile_banner_url='https://pbs.twimg.com/profile_banners/1302270720517353473/1599321182', profile_link_color='1DA1F2', profile_sidebar_border_color='C0DEED', profile_sidebar_fill_color='DDEEF6', profile_text_color='333333', profile_use_background_image=True, has_extended_profile=True, default_profile=True, default_profile_image=False, following=False, follow_request_sent=False, notifications=False, translator_type='none'), geo=None, coordinates=None, place=None, contributors=None, is_quote_status=False, retweet_count=0, favorite_count=1, favorited=False, retweeted=False, lang='en') \n",
      "\n",
      ".....................................\n",
      "\n",
      "Status(_api=<tweepy.api.API object at 0x000001D7364E8400>, _json={'created_at': 'Tue Nov 10 19:20:57 +0000 2020', 'id': 1326243467798982665, 'id_str': '1326243467798982665', 'full_text': \"IPL 2020: Delhi Capitals' Kagiso Rabada Wins Purple Cap, Ends Season With 30 Wickets In Kitty\\n\\n#purplecap  #IPL2020 #IPLfinal #DCvsMI #MumbaiIndians\\n\\nhttps://t.co/JM4V1CzYyI https://t.co/4fYWjDDScd\", 'truncated': False, 'display_text_range': [0, 173], 'entities': {'hashtags': [{'text': 'purplecap', 'indices': [95, 105]}, {'text': 'IPL2020', 'indices': [107, 115]}, {'text': 'IPLfinal', 'indices': [116, 125]}, {'text': 'DCvsMI', 'indices': [126, 133]}, {'text': 'MumbaiIndians', 'indices': [134, 148]}], 'symbols': [], 'user_mentions': [], 'urls': [{'url': 'https://t.co/JM4V1CzYyI', 'expanded_url': 'https://news.abplive.com/sports/cricket/purple-cap-player-who-is-highest-wicket-taker-in-ipl-season-13-mi-vs-dc-ipl-final-2020-today-1386802', 'display_url': 'news.abplive.com/sports/cricket…', 'indices': [150, 173]}], 'media': [{'id': 1326243290711269384, 'id_str': '1326243290711269384', 'indices': [174, 197], 'media_url': 'http://pbs.twimg.com/media/EmfDPwSXIAgF1b0.jpg', 'media_url_https': 'https://pbs.twimg.com/media/EmfDPwSXIAgF1b0.jpg', 'url': 'https://t.co/4fYWjDDScd', 'display_url': 'pic.twitter.com/4fYWjDDScd', 'expanded_url': 'https://twitter.com/ABPNews/status/1326243467798982665/photo/1', 'type': 'photo', 'sizes': {'thumb': {'w': 150, 'h': 150, 'resize': 'crop'}, 'small': {'w': 680, 'h': 510, 'resize': 'fit'}, 'large': {'w': 720, 'h': 540, 'resize': 'fit'}, 'medium': {'w': 720, 'h': 540, 'resize': 'fit'}}}]}, 'extended_entities': {'media': [{'id': 1326243290711269384, 'id_str': '1326243290711269384', 'indices': [174, 197], 'media_url': 'http://pbs.twimg.com/media/EmfDPwSXIAgF1b0.jpg', 'media_url_https': 'https://pbs.twimg.com/media/EmfDPwSXIAgF1b0.jpg', 'url': 'https://t.co/4fYWjDDScd', 'display_url': 'pic.twitter.com/4fYWjDDScd', 'expanded_url': 'https://twitter.com/ABPNews/status/1326243467798982665/photo/1', 'type': 'photo', 'sizes': {'thumb': {'w': 150, 'h': 150, 'resize': 'crop'}, 'small': {'w': 680, 'h': 510, 'resize': 'fit'}, 'large': {'w': 720, 'h': 540, 'resize': 'fit'}, 'medium': {'w': 720, 'h': 540, 'resize': 'fit'}}}]}, 'metadata': {'iso_language_code': 'en', 'result_type': 'recent'}, 'source': '<a href=\"https://about.twitter.com/products/tweetdeck\" rel=\"nofollow\">TweetDeck</a>', 'in_reply_to_status_id': None, 'in_reply_to_status_id_str': None, 'in_reply_to_user_id': None, 'in_reply_to_user_id_str': None, 'in_reply_to_screen_name': None, 'user': {'id': 39240673, 'id_str': '39240673', 'name': 'ABP News', 'screen_name': 'ABPNews', 'location': 'India', 'description': 'Follow for latest news alerts from India', 'url': 'https://t.co/oO7Op9x6aQ', 'entities': {'url': {'urls': [{'url': 'https://t.co/oO7Op9x6aQ', 'expanded_url': 'http://abplive.com', 'display_url': 'abplive.com', 'indices': [0, 23]}]}, 'description': {'urls': []}}, 'protected': False, 'followers_count': 10565259, 'friends_count': 190, 'listed_count': 3948, 'created_at': 'Mon May 11 12:25:51 +0000 2009', 'favourites_count': 122, 'utc_offset': None, 'time_zone': None, 'geo_enabled': True, 'verified': True, 'statuses_count': 274067, 'lang': None, 'contributors_enabled': False, 'is_translator': False, 'is_translation_enabled': False, 'profile_background_color': '00326F', 'profile_background_image_url': 'http://abs.twimg.com/images/themes/theme4/bg.gif', 'profile_background_image_url_https': 'https://abs.twimg.com/images/themes/theme4/bg.gif', 'profile_background_tile': False, 'profile_image_url': 'http://pbs.twimg.com/profile_images/1093087956141715456/uR5Dz8p2_normal.jpg', 'profile_image_url_https': 'https://pbs.twimg.com/profile_images/1093087956141715456/uR5Dz8p2_normal.jpg', 'profile_banner_url': 'https://pbs.twimg.com/profile_banners/39240673/1605100347', 'profile_link_color': '0084B4', 'profile_sidebar_border_color': 'FFFFFF', 'profile_sidebar_fill_color': 'F5E216', 'profile_text_color': '080808', 'profile_use_background_image': True, 'has_extended_profile': False, 'default_profile': False, 'default_profile_image': False, 'following': False, 'follow_request_sent': False, 'notifications': False, 'translator_type': 'none'}, 'geo': None, 'coordinates': None, 'place': None, 'contributors': None, 'is_quote_status': False, 'retweet_count': 0, 'favorite_count': 94, 'favorited': False, 'retweeted': False, 'possibly_sensitive': False, 'lang': 'en'}, created_at=datetime.datetime(2020, 11, 10, 19, 20, 57), id=1326243467798982665, id_str='1326243467798982665', full_text=\"IPL 2020: Delhi Capitals' Kagiso Rabada Wins Purple Cap, Ends Season With 30 Wickets In Kitty\\n\\n#purplecap  #IPL2020 #IPLfinal #DCvsMI #MumbaiIndians\\n\\nhttps://t.co/JM4V1CzYyI https://t.co/4fYWjDDScd\", truncated=False, display_text_range=[0, 173], entities={'hashtags': [{'text': 'purplecap', 'indices': [95, 105]}, {'text': 'IPL2020', 'indices': [107, 115]}, {'text': 'IPLfinal', 'indices': [116, 125]}, {'text': 'DCvsMI', 'indices': [126, 133]}, {'text': 'MumbaiIndians', 'indices': [134, 148]}], 'symbols': [], 'user_mentions': [], 'urls': [{'url': 'https://t.co/JM4V1CzYyI', 'expanded_url': 'https://news.abplive.com/sports/cricket/purple-cap-player-who-is-highest-wicket-taker-in-ipl-season-13-mi-vs-dc-ipl-final-2020-today-1386802', 'display_url': 'news.abplive.com/sports/cricket…', 'indices': [150, 173]}], 'media': [{'id': 1326243290711269384, 'id_str': '1326243290711269384', 'indices': [174, 197], 'media_url': 'http://pbs.twimg.com/media/EmfDPwSXIAgF1b0.jpg', 'media_url_https': 'https://pbs.twimg.com/media/EmfDPwSXIAgF1b0.jpg', 'url': 'https://t.co/4fYWjDDScd', 'display_url': 'pic.twitter.com/4fYWjDDScd', 'expanded_url': 'https://twitter.com/ABPNews/status/1326243467798982665/photo/1', 'type': 'photo', 'sizes': {'thumb': {'w': 150, 'h': 150, 'resize': 'crop'}, 'small': {'w': 680, 'h': 510, 'resize': 'fit'}, 'large': {'w': 720, 'h': 540, 'resize': 'fit'}, 'medium': {'w': 720, 'h': 540, 'resize': 'fit'}}}]}, extended_entities={'media': [{'id': 1326243290711269384, 'id_str': '1326243290711269384', 'indices': [174, 197], 'media_url': 'http://pbs.twimg.com/media/EmfDPwSXIAgF1b0.jpg', 'media_url_https': 'https://pbs.twimg.com/media/EmfDPwSXIAgF1b0.jpg', 'url': 'https://t.co/4fYWjDDScd', 'display_url': 'pic.twitter.com/4fYWjDDScd', 'expanded_url': 'https://twitter.com/ABPNews/status/1326243467798982665/photo/1', 'type': 'photo', 'sizes': {'thumb': {'w': 150, 'h': 150, 'resize': 'crop'}, 'small': {'w': 680, 'h': 510, 'resize': 'fit'}, 'large': {'w': 720, 'h': 540, 'resize': 'fit'}, 'medium': {'w': 720, 'h': 540, 'resize': 'fit'}}}]}, metadata={'iso_language_code': 'en', 'result_type': 'recent'}, source='TweetDeck', source_url='https://about.twitter.com/products/tweetdeck', in_reply_to_status_id=None, in_reply_to_status_id_str=None, in_reply_to_user_id=None, in_reply_to_user_id_str=None, in_reply_to_screen_name=None, author=User(_api=<tweepy.api.API object at 0x000001D7364E8400>, _json={'id': 39240673, 'id_str': '39240673', 'name': 'ABP News', 'screen_name': 'ABPNews', 'location': 'India', 'description': 'Follow for latest news alerts from India', 'url': 'https://t.co/oO7Op9x6aQ', 'entities': {'url': {'urls': [{'url': 'https://t.co/oO7Op9x6aQ', 'expanded_url': 'http://abplive.com', 'display_url': 'abplive.com', 'indices': [0, 23]}]}, 'description': {'urls': []}}, 'protected': False, 'followers_count': 10565259, 'friends_count': 190, 'listed_count': 3948, 'created_at': 'Mon May 11 12:25:51 +0000 2009', 'favourites_count': 122, 'utc_offset': None, 'time_zone': None, 'geo_enabled': True, 'verified': True, 'statuses_count': 274067, 'lang': None, 'contributors_enabled': False, 'is_translator': False, 'is_translation_enabled': False, 'profile_background_color': '00326F', 'profile_background_image_url': 'http://abs.twimg.com/images/themes/theme4/bg.gif', 'profile_background_image_url_https': 'https://abs.twimg.com/images/themes/theme4/bg.gif', 'profile_background_tile': False, 'profile_image_url': 'http://pbs.twimg.com/profile_images/1093087956141715456/uR5Dz8p2_normal.jpg', 'profile_image_url_https': 'https://pbs.twimg.com/profile_images/1093087956141715456/uR5Dz8p2_normal.jpg', 'profile_banner_url': 'https://pbs.twimg.com/profile_banners/39240673/1605100347', 'profile_link_color': '0084B4', 'profile_sidebar_border_color': 'FFFFFF', 'profile_sidebar_fill_color': 'F5E216', 'profile_text_color': '080808', 'profile_use_background_image': True, 'has_extended_profile': False, 'default_profile': False, 'default_profile_image': False, 'following': False, 'follow_request_sent': False, 'notifications': False, 'translator_type': 'none'}, id=39240673, id_str='39240673', name='ABP News', screen_name='ABPNews', location='India', description='Follow for latest news alerts from India', url='https://t.co/oO7Op9x6aQ', entities={'url': {'urls': [{'url': 'https://t.co/oO7Op9x6aQ', 'expanded_url': 'http://abplive.com', 'display_url': 'abplive.com', 'indices': [0, 23]}]}, 'description': {'urls': []}}, protected=False, followers_count=10565259, friends_count=190, listed_count=3948, created_at=datetime.datetime(2009, 5, 11, 12, 25, 51), favourites_count=122, utc_offset=None, time_zone=None, geo_enabled=True, verified=True, statuses_count=274067, lang=None, contributors_enabled=False, is_translator=False, is_translation_enabled=False, profile_background_color='00326F', profile_background_image_url='http://abs.twimg.com/images/themes/theme4/bg.gif', profile_background_image_url_https='https://abs.twimg.com/images/themes/theme4/bg.gif', profile_background_tile=False, profile_image_url='http://pbs.twimg.com/profile_images/1093087956141715456/uR5Dz8p2_normal.jpg', profile_image_url_https='https://pbs.twimg.com/profile_images/1093087956141715456/uR5Dz8p2_normal.jpg', profile_banner_url='https://pbs.twimg.com/profile_banners/39240673/1605100347', profile_link_color='0084B4', profile_sidebar_border_color='FFFFFF', profile_sidebar_fill_color='F5E216', profile_text_color='080808', profile_use_background_image=True, has_extended_profile=False, default_profile=False, default_profile_image=False, following=False, follow_request_sent=False, notifications=False, translator_type='none'), user=User(_api=<tweepy.api.API object at 0x000001D7364E8400>, _json={'id': 39240673, 'id_str': '39240673', 'name': 'ABP News', 'screen_name': 'ABPNews', 'location': 'India', 'description': 'Follow for latest news alerts from India', 'url': 'https://t.co/oO7Op9x6aQ', 'entities': {'url': {'urls': [{'url': 'https://t.co/oO7Op9x6aQ', 'expanded_url': 'http://abplive.com', 'display_url': 'abplive.com', 'indices': [0, 23]}]}, 'description': {'urls': []}}, 'protected': False, 'followers_count': 10565259, 'friends_count': 190, 'listed_count': 3948, 'created_at': 'Mon May 11 12:25:51 +0000 2009', 'favourites_count': 122, 'utc_offset': None, 'time_zone': None, 'geo_enabled': True, 'verified': True, 'statuses_count': 274067, 'lang': None, 'contributors_enabled': False, 'is_translator': False, 'is_translation_enabled': False, 'profile_background_color': '00326F', 'profile_background_image_url': 'http://abs.twimg.com/images/themes/theme4/bg.gif', 'profile_background_image_url_https': 'https://abs.twimg.com/images/themes/theme4/bg.gif', 'profile_background_tile': False, 'profile_image_url': 'http://pbs.twimg.com/profile_images/1093087956141715456/uR5Dz8p2_normal.jpg', 'profile_image_url_https': 'https://pbs.twimg.com/profile_images/1093087956141715456/uR5Dz8p2_normal.jpg', 'profile_banner_url': 'https://pbs.twimg.com/profile_banners/39240673/1605100347', 'profile_link_color': '0084B4', 'profile_sidebar_border_color': 'FFFFFF', 'profile_sidebar_fill_color': 'F5E216', 'profile_text_color': '080808', 'profile_use_background_image': True, 'has_extended_profile': False, 'default_profile': False, 'default_profile_image': False, 'following': False, 'follow_request_sent': False, 'notifications': False, 'translator_type': 'none'}, id=39240673, id_str='39240673', name='ABP News', screen_name='ABPNews', location='India', description='Follow for latest news alerts from India', url='https://t.co/oO7Op9x6aQ', entities={'url': {'urls': [{'url': 'https://t.co/oO7Op9x6aQ', 'expanded_url': 'http://abplive.com', 'display_url': 'abplive.com', 'indices': [0, 23]}]}, 'description': {'urls': []}}, protected=False, followers_count=10565259, friends_count=190, listed_count=3948, created_at=datetime.datetime(2009, 5, 11, 12, 25, 51), favourites_count=122, utc_offset=None, time_zone=None, geo_enabled=True, verified=True, statuses_count=274067, lang=None, contributors_enabled=False, is_translator=False, is_translation_enabled=False, profile_background_color='00326F', profile_background_image_url='http://abs.twimg.com/images/themes/theme4/bg.gif', profile_background_image_url_https='https://abs.twimg.com/images/themes/theme4/bg.gif', profile_background_tile=False, profile_image_url='http://pbs.twimg.com/profile_images/1093087956141715456/uR5Dz8p2_normal.jpg', profile_image_url_https='https://pbs.twimg.com/profile_images/1093087956141715456/uR5Dz8p2_normal.jpg', profile_banner_url='https://pbs.twimg.com/profile_banners/39240673/1605100347', profile_link_color='0084B4', profile_sidebar_border_color='FFFFFF', profile_sidebar_fill_color='F5E216', profile_text_color='080808', profile_use_background_image=True, has_extended_profile=False, default_profile=False, default_profile_image=False, following=False, follow_request_sent=False, notifications=False, translator_type='none'), geo=None, coordinates=None, place=None, contributors=None, is_quote_status=False, retweet_count=0, favorite_count=94, favorited=False, retweeted=False, possibly_sensitive=False, lang='en') \n",
      "\n",
      ".....................................\n",
      "\n",
      "Status(_api=<tweepy.api.API object at 0x000001D7364E8400>, _json={'created_at': 'Tue Nov 10 19:13:41 +0000 2020', 'id': 1326241638851596288, 'id_str': '1326241638851596288', 'full_text': 'Before today, MI had this tag that it wins only odd seasons of IPL\\nAlso 2020 is being considered a weird year\\nEveryone thought it would be a season for RCB or DC, but the oddness came out as MI winning the even season \\n#IPL2020 #IPL #MIvDC #IPLfinal2020 #oddyear', 'truncated': False, 'display_text_range': [0, 262], 'entities': {'hashtags': [{'text': 'IPL2020', 'indices': [219, 227]}, {'text': 'IPL', 'indices': [228, 232]}, {'text': 'MIvDC', 'indices': [233, 239]}, {'text': 'IPLfinal2020', 'indices': [240, 253]}, {'text': 'oddyear', 'indices': [254, 262]}], 'symbols': [], 'user_mentions': [], 'urls': []}, 'metadata': {'iso_language_code': 'en', 'result_type': 'recent'}, 'source': '<a href=\"http://twitter.com/download/android\" rel=\"nofollow\">Twitter for Android</a>', 'in_reply_to_status_id': None, 'in_reply_to_status_id_str': None, 'in_reply_to_user_id': None, 'in_reply_to_user_id_str': None, 'in_reply_to_screen_name': None, 'user': {'id': 1168576730648367108, 'id_str': '1168576730648367108', 'name': 'Shanmukha Teja', 'screen_name': 'shanmukha_teja_', 'location': '', 'description': 'Old account deleted. \\nNew account !!\\nThanks for visiting !! Follow for fun ;)', 'url': None, 'entities': {'description': {'urls': []}}, 'protected': False, 'followers_count': 5, 'friends_count': 109, 'listed_count': 0, 'created_at': 'Mon Sep 02 17:29:51 +0000 2019', 'favourites_count': 902, 'utc_offset': None, 'time_zone': None, 'geo_enabled': False, 'verified': False, 'statuses_count': 79, 'lang': None, 'contributors_enabled': False, 'is_translator': False, 'is_translation_enabled': False, 'profile_background_color': 'F5F8FA', 'profile_background_image_url': None, 'profile_background_image_url_https': None, 'profile_background_tile': False, 'profile_image_url': 'http://pbs.twimg.com/profile_images/1309588267193434112/8Yrg5m1h_normal.jpg', 'profile_image_url_https': 'https://pbs.twimg.com/profile_images/1309588267193434112/8Yrg5m1h_normal.jpg', 'profile_banner_url': 'https://pbs.twimg.com/profile_banners/1168576730648367108/1585041233', 'profile_link_color': '1DA1F2', 'profile_sidebar_border_color': 'C0DEED', 'profile_sidebar_fill_color': 'DDEEF6', 'profile_text_color': '333333', 'profile_use_background_image': True, 'has_extended_profile': True, 'default_profile': True, 'default_profile_image': False, 'following': False, 'follow_request_sent': False, 'notifications': False, 'translator_type': 'none'}, 'geo': None, 'coordinates': None, 'place': None, 'contributors': None, 'is_quote_status': False, 'retweet_count': 0, 'favorite_count': 0, 'favorited': False, 'retweeted': False, 'lang': 'en'}, created_at=datetime.datetime(2020, 11, 10, 19, 13, 41), id=1326241638851596288, id_str='1326241638851596288', full_text='Before today, MI had this tag that it wins only odd seasons of IPL\\nAlso 2020 is being considered a weird year\\nEveryone thought it would be a season for RCB or DC, but the oddness came out as MI winning the even season \\n#IPL2020 #IPL #MIvDC #IPLfinal2020 #oddyear', truncated=False, display_text_range=[0, 262], entities={'hashtags': [{'text': 'IPL2020', 'indices': [219, 227]}, {'text': 'IPL', 'indices': [228, 232]}, {'text': 'MIvDC', 'indices': [233, 239]}, {'text': 'IPLfinal2020', 'indices': [240, 253]}, {'text': 'oddyear', 'indices': [254, 262]}], 'symbols': [], 'user_mentions': [], 'urls': []}, metadata={'iso_language_code': 'en', 'result_type': 'recent'}, source='Twitter for Android', source_url='http://twitter.com/download/android', in_reply_to_status_id=None, in_reply_to_status_id_str=None, in_reply_to_user_id=None, in_reply_to_user_id_str=None, in_reply_to_screen_name=None, author=User(_api=<tweepy.api.API object at 0x000001D7364E8400>, _json={'id': 1168576730648367108, 'id_str': '1168576730648367108', 'name': 'Shanmukha Teja', 'screen_name': 'shanmukha_teja_', 'location': '', 'description': 'Old account deleted. \\nNew account !!\\nThanks for visiting !! Follow for fun ;)', 'url': None, 'entities': {'description': {'urls': []}}, 'protected': False, 'followers_count': 5, 'friends_count': 109, 'listed_count': 0, 'created_at': 'Mon Sep 02 17:29:51 +0000 2019', 'favourites_count': 902, 'utc_offset': None, 'time_zone': None, 'geo_enabled': False, 'verified': False, 'statuses_count': 79, 'lang': None, 'contributors_enabled': False, 'is_translator': False, 'is_translation_enabled': False, 'profile_background_color': 'F5F8FA', 'profile_background_image_url': None, 'profile_background_image_url_https': None, 'profile_background_tile': False, 'profile_image_url': 'http://pbs.twimg.com/profile_images/1309588267193434112/8Yrg5m1h_normal.jpg', 'profile_image_url_https': 'https://pbs.twimg.com/profile_images/1309588267193434112/8Yrg5m1h_normal.jpg', 'profile_banner_url': 'https://pbs.twimg.com/profile_banners/1168576730648367108/1585041233', 'profile_link_color': '1DA1F2', 'profile_sidebar_border_color': 'C0DEED', 'profile_sidebar_fill_color': 'DDEEF6', 'profile_text_color': '333333', 'profile_use_background_image': True, 'has_extended_profile': True, 'default_profile': True, 'default_profile_image': False, 'following': False, 'follow_request_sent': False, 'notifications': False, 'translator_type': 'none'}, id=1168576730648367108, id_str='1168576730648367108', name='Shanmukha Teja', screen_name='shanmukha_teja_', location='', description='Old account deleted. \\nNew account !!\\nThanks for visiting !! Follow for fun ;)', url=None, entities={'description': {'urls': []}}, protected=False, followers_count=5, friends_count=109, listed_count=0, created_at=datetime.datetime(2019, 9, 2, 17, 29, 51), favourites_count=902, utc_offset=None, time_zone=None, geo_enabled=False, verified=False, statuses_count=79, lang=None, contributors_enabled=False, is_translator=False, is_translation_enabled=False, profile_background_color='F5F8FA', profile_background_image_url=None, profile_background_image_url_https=None, profile_background_tile=False, profile_image_url='http://pbs.twimg.com/profile_images/1309588267193434112/8Yrg5m1h_normal.jpg', profile_image_url_https='https://pbs.twimg.com/profile_images/1309588267193434112/8Yrg5m1h_normal.jpg', profile_banner_url='https://pbs.twimg.com/profile_banners/1168576730648367108/1585041233', profile_link_color='1DA1F2', profile_sidebar_border_color='C0DEED', profile_sidebar_fill_color='DDEEF6', profile_text_color='333333', profile_use_background_image=True, has_extended_profile=True, default_profile=True, default_profile_image=False, following=False, follow_request_sent=False, notifications=False, translator_type='none'), user=User(_api=<tweepy.api.API object at 0x000001D7364E8400>, _json={'id': 1168576730648367108, 'id_str': '1168576730648367108', 'name': 'Shanmukha Teja', 'screen_name': 'shanmukha_teja_', 'location': '', 'description': 'Old account deleted. \\nNew account !!\\nThanks for visiting !! Follow for fun ;)', 'url': None, 'entities': {'description': {'urls': []}}, 'protected': False, 'followers_count': 5, 'friends_count': 109, 'listed_count': 0, 'created_at': 'Mon Sep 02 17:29:51 +0000 2019', 'favourites_count': 902, 'utc_offset': None, 'time_zone': None, 'geo_enabled': False, 'verified': False, 'statuses_count': 79, 'lang': None, 'contributors_enabled': False, 'is_translator': False, 'is_translation_enabled': False, 'profile_background_color': 'F5F8FA', 'profile_background_image_url': None, 'profile_background_image_url_https': None, 'profile_background_tile': False, 'profile_image_url': 'http://pbs.twimg.com/profile_images/1309588267193434112/8Yrg5m1h_normal.jpg', 'profile_image_url_https': 'https://pbs.twimg.com/profile_images/1309588267193434112/8Yrg5m1h_normal.jpg', 'profile_banner_url': 'https://pbs.twimg.com/profile_banners/1168576730648367108/1585041233', 'profile_link_color': '1DA1F2', 'profile_sidebar_border_color': 'C0DEED', 'profile_sidebar_fill_color': 'DDEEF6', 'profile_text_color': '333333', 'profile_use_background_image': True, 'has_extended_profile': True, 'default_profile': True, 'default_profile_image': False, 'following': False, 'follow_request_sent': False, 'notifications': False, 'translator_type': 'none'}, id=1168576730648367108, id_str='1168576730648367108', name='Shanmukha Teja', screen_name='shanmukha_teja_', location='', description='Old account deleted. \\nNew account !!\\nThanks for visiting !! Follow for fun ;)', url=None, entities={'description': {'urls': []}}, protected=False, followers_count=5, friends_count=109, listed_count=0, created_at=datetime.datetime(2019, 9, 2, 17, 29, 51), favourites_count=902, utc_offset=None, time_zone=None, geo_enabled=False, verified=False, statuses_count=79, lang=None, contributors_enabled=False, is_translator=False, is_translation_enabled=False, profile_background_color='F5F8FA', profile_background_image_url=None, profile_background_image_url_https=None, profile_background_tile=False, profile_image_url='http://pbs.twimg.com/profile_images/1309588267193434112/8Yrg5m1h_normal.jpg', profile_image_url_https='https://pbs.twimg.com/profile_images/1309588267193434112/8Yrg5m1h_normal.jpg', profile_banner_url='https://pbs.twimg.com/profile_banners/1168576730648367108/1585041233', profile_link_color='1DA1F2', profile_sidebar_border_color='C0DEED', profile_sidebar_fill_color='DDEEF6', profile_text_color='333333', profile_use_background_image=True, has_extended_profile=True, default_profile=True, default_profile_image=False, following=False, follow_request_sent=False, notifications=False, translator_type='none'), geo=None, coordinates=None, place=None, contributors=None, is_quote_status=False, retweet_count=0, favorite_count=0, favorited=False, retweeted=False, lang='en') \n",
      "\n",
      ".....................................\n",
      "\n",
      "Status(_api=<tweepy.api.API object at 0x000001D7364E8400>, _json={'created_at': 'Tue Nov 10 18:29:21 +0000 2020', 'id': 1326230481273200640, 'id_str': '1326230481273200640', 'full_text': '#KXIP skipper #KLRahul also wins the #OrangeCap. He scored 670 runs in 14 innings at an average of 55.83 and a strike rate of 129.34. \\n\\nFor more updates: https://t.co/6NqZTzuIW4\\n\\n#IPL2020 #Cricket https://t.co/b2OoeCNVwW', 'truncated': False, 'display_text_range': [0, 196], 'entities': {'hashtags': [{'text': 'KXIP', 'indices': [0, 5]}, {'text': 'KLRahul', 'indices': [14, 22]}, {'text': 'OrangeCap', 'indices': [37, 47]}, {'text': 'IPL2020', 'indices': [179, 187]}, {'text': 'Cricket', 'indices': [188, 196]}], 'symbols': [], 'user_mentions': [], 'urls': [{'url': 'https://t.co/6NqZTzuIW4', 'expanded_url': 'http://bit.ly/3pdGNvF', 'display_url': 'bit.ly/3pdGNvF', 'indices': [154, 177]}], 'media': [{'id': 1326229931911598080, 'id_str': '1326229931911598080', 'indices': [197, 220], 'media_url': 'http://pbs.twimg.com/media/Eme3GK4U0AAmHnb.jpg', 'media_url_https': 'https://pbs.twimg.com/media/Eme3GK4U0AAmHnb.jpg', 'url': 'https://t.co/b2OoeCNVwW', 'display_url': 'pic.twitter.com/b2OoeCNVwW', 'expanded_url': 'https://twitter.com/Opoyis/status/1326230481273200640/photo/1', 'type': 'photo', 'sizes': {'medium': {'w': 1024, 'h': 512, 'resize': 'fit'}, 'thumb': {'w': 150, 'h': 150, 'resize': 'crop'}, 'large': {'w': 1024, 'h': 512, 'resize': 'fit'}, 'small': {'w': 680, 'h': 340, 'resize': 'fit'}}}]}, 'extended_entities': {'media': [{'id': 1326229931911598080, 'id_str': '1326229931911598080', 'indices': [197, 220], 'media_url': 'http://pbs.twimg.com/media/Eme3GK4U0AAmHnb.jpg', 'media_url_https': 'https://pbs.twimg.com/media/Eme3GK4U0AAmHnb.jpg', 'url': 'https://t.co/b2OoeCNVwW', 'display_url': 'pic.twitter.com/b2OoeCNVwW', 'expanded_url': 'https://twitter.com/Opoyis/status/1326230481273200640/photo/1', 'type': 'photo', 'sizes': {'medium': {'w': 1024, 'h': 512, 'resize': 'fit'}, 'thumb': {'w': 150, 'h': 150, 'resize': 'crop'}, 'large': {'w': 1024, 'h': 512, 'resize': 'fit'}, 'small': {'w': 680, 'h': 340, 'resize': 'fit'}}}]}, 'metadata': {'iso_language_code': 'en', 'result_type': 'recent'}, 'source': '<a href=\"https://mobile.twitter.com\" rel=\"nofollow\">Twitter Web App</a>', 'in_reply_to_status_id': None, 'in_reply_to_status_id_str': None, 'in_reply_to_user_id': None, 'in_reply_to_user_id_str': None, 'in_reply_to_screen_name': None, 'user': {'id': 1084518784004542464, 'id_str': '1084518784004542464', 'name': 'Opoyi', 'screen_name': 'Opoyis', 'location': '', 'description': 'High-quality trusted conversations around news and information, in 12 languages.', 'url': 'https://t.co/13SulifUgR', 'entities': {'url': {'urls': [{'url': 'https://t.co/13SulifUgR', 'expanded_url': 'http://www.opoyi.com', 'display_url': 'opoyi.com', 'indices': [0, 23]}]}, 'description': {'urls': []}}, 'protected': False, 'followers_count': 9783, 'friends_count': 49, 'listed_count': 4, 'created_at': 'Sun Jan 13 18:33:22 +0000 2019', 'favourites_count': 14, 'utc_offset': None, 'time_zone': None, 'geo_enabled': False, 'verified': False, 'statuses_count': 11531, 'lang': None, 'contributors_enabled': False, 'is_translator': False, 'is_translation_enabled': False, 'profile_background_color': 'F5F8FA', 'profile_background_image_url': None, 'profile_background_image_url_https': None, 'profile_background_tile': False, 'profile_image_url': 'http://pbs.twimg.com/profile_images/1276535290463580162/g3rsV036_normal.png', 'profile_image_url_https': 'https://pbs.twimg.com/profile_images/1276535290463580162/g3rsV036_normal.png', 'profile_banner_url': 'https://pbs.twimg.com/profile_banners/1084518784004542464/1605090655', 'profile_link_color': '1DA1F2', 'profile_sidebar_border_color': 'C0DEED', 'profile_sidebar_fill_color': 'DDEEF6', 'profile_text_color': '333333', 'profile_use_background_image': True, 'has_extended_profile': False, 'default_profile': True, 'default_profile_image': False, 'following': False, 'follow_request_sent': False, 'notifications': False, 'translator_type': 'none'}, 'geo': None, 'coordinates': None, 'place': None, 'contributors': None, 'is_quote_status': False, 'retweet_count': 1, 'favorite_count': 2, 'favorited': False, 'retweeted': False, 'possibly_sensitive': False, 'lang': 'en'}, created_at=datetime.datetime(2020, 11, 10, 18, 29, 21), id=1326230481273200640, id_str='1326230481273200640', full_text='#KXIP skipper #KLRahul also wins the #OrangeCap. He scored 670 runs in 14 innings at an average of 55.83 and a strike rate of 129.34. \\n\\nFor more updates: https://t.co/6NqZTzuIW4\\n\\n#IPL2020 #Cricket https://t.co/b2OoeCNVwW', truncated=False, display_text_range=[0, 196], entities={'hashtags': [{'text': 'KXIP', 'indices': [0, 5]}, {'text': 'KLRahul', 'indices': [14, 22]}, {'text': 'OrangeCap', 'indices': [37, 47]}, {'text': 'IPL2020', 'indices': [179, 187]}, {'text': 'Cricket', 'indices': [188, 196]}], 'symbols': [], 'user_mentions': [], 'urls': [{'url': 'https://t.co/6NqZTzuIW4', 'expanded_url': 'http://bit.ly/3pdGNvF', 'display_url': 'bit.ly/3pdGNvF', 'indices': [154, 177]}], 'media': [{'id': 1326229931911598080, 'id_str': '1326229931911598080', 'indices': [197, 220], 'media_url': 'http://pbs.twimg.com/media/Eme3GK4U0AAmHnb.jpg', 'media_url_https': 'https://pbs.twimg.com/media/Eme3GK4U0AAmHnb.jpg', 'url': 'https://t.co/b2OoeCNVwW', 'display_url': 'pic.twitter.com/b2OoeCNVwW', 'expanded_url': 'https://twitter.com/Opoyis/status/1326230481273200640/photo/1', 'type': 'photo', 'sizes': {'medium': {'w': 1024, 'h': 512, 'resize': 'fit'}, 'thumb': {'w': 150, 'h': 150, 'resize': 'crop'}, 'large': {'w': 1024, 'h': 512, 'resize': 'fit'}, 'small': {'w': 680, 'h': 340, 'resize': 'fit'}}}]}, extended_entities={'media': [{'id': 1326229931911598080, 'id_str': '1326229931911598080', 'indices': [197, 220], 'media_url': 'http://pbs.twimg.com/media/Eme3GK4U0AAmHnb.jpg', 'media_url_https': 'https://pbs.twimg.com/media/Eme3GK4U0AAmHnb.jpg', 'url': 'https://t.co/b2OoeCNVwW', 'display_url': 'pic.twitter.com/b2OoeCNVwW', 'expanded_url': 'https://twitter.com/Opoyis/status/1326230481273200640/photo/1', 'type': 'photo', 'sizes': {'medium': {'w': 1024, 'h': 512, 'resize': 'fit'}, 'thumb': {'w': 150, 'h': 150, 'resize': 'crop'}, 'large': {'w': 1024, 'h': 512, 'resize': 'fit'}, 'small': {'w': 680, 'h': 340, 'resize': 'fit'}}}]}, metadata={'iso_language_code': 'en', 'result_type': 'recent'}, source='Twitter Web App', source_url='https://mobile.twitter.com', in_reply_to_status_id=None, in_reply_to_status_id_str=None, in_reply_to_user_id=None, in_reply_to_user_id_str=None, in_reply_to_screen_name=None, author=User(_api=<tweepy.api.API object at 0x000001D7364E8400>, _json={'id': 1084518784004542464, 'id_str': '1084518784004542464', 'name': 'Opoyi', 'screen_name': 'Opoyis', 'location': '', 'description': 'High-quality trusted conversations around news and information, in 12 languages.', 'url': 'https://t.co/13SulifUgR', 'entities': {'url': {'urls': [{'url': 'https://t.co/13SulifUgR', 'expanded_url': 'http://www.opoyi.com', 'display_url': 'opoyi.com', 'indices': [0, 23]}]}, 'description': {'urls': []}}, 'protected': False, 'followers_count': 9783, 'friends_count': 49, 'listed_count': 4, 'created_at': 'Sun Jan 13 18:33:22 +0000 2019', 'favourites_count': 14, 'utc_offset': None, 'time_zone': None, 'geo_enabled': False, 'verified': False, 'statuses_count': 11531, 'lang': None, 'contributors_enabled': False, 'is_translator': False, 'is_translation_enabled': False, 'profile_background_color': 'F5F8FA', 'profile_background_image_url': None, 'profile_background_image_url_https': None, 'profile_background_tile': False, 'profile_image_url': 'http://pbs.twimg.com/profile_images/1276535290463580162/g3rsV036_normal.png', 'profile_image_url_https': 'https://pbs.twimg.com/profile_images/1276535290463580162/g3rsV036_normal.png', 'profile_banner_url': 'https://pbs.twimg.com/profile_banners/1084518784004542464/1605090655', 'profile_link_color': '1DA1F2', 'profile_sidebar_border_color': 'C0DEED', 'profile_sidebar_fill_color': 'DDEEF6', 'profile_text_color': '333333', 'profile_use_background_image': True, 'has_extended_profile': False, 'default_profile': True, 'default_profile_image': False, 'following': False, 'follow_request_sent': False, 'notifications': False, 'translator_type': 'none'}, id=1084518784004542464, id_str='1084518784004542464', name='Opoyi', screen_name='Opoyis', location='', description='High-quality trusted conversations around news and information, in 12 languages.', url='https://t.co/13SulifUgR', entities={'url': {'urls': [{'url': 'https://t.co/13SulifUgR', 'expanded_url': 'http://www.opoyi.com', 'display_url': 'opoyi.com', 'indices': [0, 23]}]}, 'description': {'urls': []}}, protected=False, followers_count=9783, friends_count=49, listed_count=4, created_at=datetime.datetime(2019, 1, 13, 18, 33, 22), favourites_count=14, utc_offset=None, time_zone=None, geo_enabled=False, verified=False, statuses_count=11531, lang=None, contributors_enabled=False, is_translator=False, is_translation_enabled=False, profile_background_color='F5F8FA', profile_background_image_url=None, profile_background_image_url_https=None, profile_background_tile=False, profile_image_url='http://pbs.twimg.com/profile_images/1276535290463580162/g3rsV036_normal.png', profile_image_url_https='https://pbs.twimg.com/profile_images/1276535290463580162/g3rsV036_normal.png', profile_banner_url='https://pbs.twimg.com/profile_banners/1084518784004542464/1605090655', profile_link_color='1DA1F2', profile_sidebar_border_color='C0DEED', profile_sidebar_fill_color='DDEEF6', profile_text_color='333333', profile_use_background_image=True, has_extended_profile=False, default_profile=True, default_profile_image=False, following=False, follow_request_sent=False, notifications=False, translator_type='none'), user=User(_api=<tweepy.api.API object at 0x000001D7364E8400>, _json={'id': 1084518784004542464, 'id_str': '1084518784004542464', 'name': 'Opoyi', 'screen_name': 'Opoyis', 'location': '', 'description': 'High-quality trusted conversations around news and information, in 12 languages.', 'url': 'https://t.co/13SulifUgR', 'entities': {'url': {'urls': [{'url': 'https://t.co/13SulifUgR', 'expanded_url': 'http://www.opoyi.com', 'display_url': 'opoyi.com', 'indices': [0, 23]}]}, 'description': {'urls': []}}, 'protected': False, 'followers_count': 9783, 'friends_count': 49, 'listed_count': 4, 'created_at': 'Sun Jan 13 18:33:22 +0000 2019', 'favourites_count': 14, 'utc_offset': None, 'time_zone': None, 'geo_enabled': False, 'verified': False, 'statuses_count': 11531, 'lang': None, 'contributors_enabled': False, 'is_translator': False, 'is_translation_enabled': False, 'profile_background_color': 'F5F8FA', 'profile_background_image_url': None, 'profile_background_image_url_https': None, 'profile_background_tile': False, 'profile_image_url': 'http://pbs.twimg.com/profile_images/1276535290463580162/g3rsV036_normal.png', 'profile_image_url_https': 'https://pbs.twimg.com/profile_images/1276535290463580162/g3rsV036_normal.png', 'profile_banner_url': 'https://pbs.twimg.com/profile_banners/1084518784004542464/1605090655', 'profile_link_color': '1DA1F2', 'profile_sidebar_border_color': 'C0DEED', 'profile_sidebar_fill_color': 'DDEEF6', 'profile_text_color': '333333', 'profile_use_background_image': True, 'has_extended_profile': False, 'default_profile': True, 'default_profile_image': False, 'following': False, 'follow_request_sent': False, 'notifications': False, 'translator_type': 'none'}, id=1084518784004542464, id_str='1084518784004542464', name='Opoyi', screen_name='Opoyis', location='', description='High-quality trusted conversations around news and information, in 12 languages.', url='https://t.co/13SulifUgR', entities={'url': {'urls': [{'url': 'https://t.co/13SulifUgR', 'expanded_url': 'http://www.opoyi.com', 'display_url': 'opoyi.com', 'indices': [0, 23]}]}, 'description': {'urls': []}}, protected=False, followers_count=9783, friends_count=49, listed_count=4, created_at=datetime.datetime(2019, 1, 13, 18, 33, 22), favourites_count=14, utc_offset=None, time_zone=None, geo_enabled=False, verified=False, statuses_count=11531, lang=None, contributors_enabled=False, is_translator=False, is_translation_enabled=False, profile_background_color='F5F8FA', profile_background_image_url=None, profile_background_image_url_https=None, profile_background_tile=False, profile_image_url='http://pbs.twimg.com/profile_images/1276535290463580162/g3rsV036_normal.png', profile_image_url_https='https://pbs.twimg.com/profile_images/1276535290463580162/g3rsV036_normal.png', profile_banner_url='https://pbs.twimg.com/profile_banners/1084518784004542464/1605090655', profile_link_color='1DA1F2', profile_sidebar_border_color='C0DEED', profile_sidebar_fill_color='DDEEF6', profile_text_color='333333', profile_use_background_image=True, has_extended_profile=False, default_profile=True, default_profile_image=False, following=False, follow_request_sent=False, notifications=False, translator_type='none'), geo=None, coordinates=None, place=None, contributors=None, is_quote_status=False, retweet_count=1, favorite_count=2, favorited=False, retweeted=False, possibly_sensitive=False, lang='en') \n",
      "\n",
      ".....................................\n",
      "\n",
      "Status(_api=<tweepy.api.API object at 0x000001D7364E8400>, _json={'created_at': 'Tue Nov 10 18:06:28 +0000 2020', 'id': 1326224722883829760, 'id_str': '1326224722883829760', 'full_text': 'Players part of most IPL title wins:\\n(played in the XI)\\n6-Rohit (2009-DC,2013/2015/2017/2019/2020-MI)\\n5-Pollard(2013/2015/2017/2019/2020-MI)\\n4-Malinga(2013/2015/2017/2019-MI)\\n4-Rayudu (2013/2015/2017-MI, 2018-CSK)\\n4-H Pandya (2015/2017/2019/2020-MI)\\n@IndianCricNews\\nvia @rgcricket', 'truncated': False, 'display_text_range': [0, 280], 'entities': {'hashtags': [], 'symbols': [], 'user_mentions': [{'screen_name': 'IndianCricNews', 'name': 'Indian Cricket Team', 'id': 369323101, 'id_str': '369323101', 'indices': [250, 265]}, {'screen_name': 'rgcricket', 'name': 'Rajneesh Gupta', 'id': 55251954, 'id_str': '55251954', 'indices': [270, 280]}], 'urls': []}, 'metadata': {'iso_language_code': 'en', 'result_type': 'recent'}, 'source': '<a href=\"http://twitter.com/download/android\" rel=\"nofollow\">Twitter for Android</a>', 'in_reply_to_status_id': None, 'in_reply_to_status_id_str': None, 'in_reply_to_user_id': None, 'in_reply_to_user_id_str': None, 'in_reply_to_screen_name': None, 'user': {'id': 1172655487, 'id_str': '1172655487', 'name': 'Aditya Suman', 'screen_name': 'cricadi03', 'location': 'Motihari, India', 'description': 'Fan of #Sehwag/#RohitSharma/#Warner/#Dravid/#MegLanning/#ShaneBond/#Aagarkar\\n\\nBelieve in numbers more than words.\\n\\nMember of SCSI', 'url': 'https://t.co/kc0cBN01pQ', 'entities': {'url': {'urls': [{'url': 'https://t.co/kc0cBN01pQ', 'expanded_url': 'http://www.cricadi03.wordpress.com', 'display_url': 'cricadi03.wordpress.com', 'indices': [0, 23]}]}, 'description': {'urls': []}}, 'protected': False, 'followers_count': 676, 'friends_count': 165, 'listed_count': 20, 'created_at': 'Tue Feb 12 17:48:10 +0000 2013', 'favourites_count': 9861, 'utc_offset': None, 'time_zone': None, 'geo_enabled': True, 'verified': False, 'statuses_count': 15826, 'lang': None, 'contributors_enabled': False, 'is_translator': False, 'is_translation_enabled': False, 'profile_background_color': '642D8B', 'profile_background_image_url': 'http://abs.twimg.com/images/themes/theme10/bg.gif', 'profile_background_image_url_https': 'https://abs.twimg.com/images/themes/theme10/bg.gif', 'profile_background_tile': True, 'profile_image_url': 'http://pbs.twimg.com/profile_images/1195961240662601728/lGKaO7-1_normal.jpg', 'profile_image_url_https': 'https://pbs.twimg.com/profile_images/1195961240662601728/lGKaO7-1_normal.jpg', 'profile_banner_url': 'https://pbs.twimg.com/profile_banners/1172655487/1572197332', 'profile_link_color': '632929', 'profile_sidebar_border_color': '65B0DA', 'profile_sidebar_fill_color': '7AC3EE', 'profile_text_color': '3D1957', 'profile_use_background_image': True, 'has_extended_profile': True, 'default_profile': False, 'default_profile_image': False, 'following': False, 'follow_request_sent': False, 'notifications': False, 'translator_type': 'none'}, 'geo': None, 'coordinates': None, 'place': None, 'contributors': None, 'is_quote_status': False, 'retweet_count': 1, 'favorite_count': 10, 'favorited': False, 'retweeted': False, 'lang': 'en'}, created_at=datetime.datetime(2020, 11, 10, 18, 6, 28), id=1326224722883829760, id_str='1326224722883829760', full_text='Players part of most IPL title wins:\\n(played in the XI)\\n6-Rohit (2009-DC,2013/2015/2017/2019/2020-MI)\\n5-Pollard(2013/2015/2017/2019/2020-MI)\\n4-Malinga(2013/2015/2017/2019-MI)\\n4-Rayudu (2013/2015/2017-MI, 2018-CSK)\\n4-H Pandya (2015/2017/2019/2020-MI)\\n@IndianCricNews\\nvia @rgcricket', truncated=False, display_text_range=[0, 280], entities={'hashtags': [], 'symbols': [], 'user_mentions': [{'screen_name': 'IndianCricNews', 'name': 'Indian Cricket Team', 'id': 369323101, 'id_str': '369323101', 'indices': [250, 265]}, {'screen_name': 'rgcricket', 'name': 'Rajneesh Gupta', 'id': 55251954, 'id_str': '55251954', 'indices': [270, 280]}], 'urls': []}, metadata={'iso_language_code': 'en', 'result_type': 'recent'}, source='Twitter for Android', source_url='http://twitter.com/download/android', in_reply_to_status_id=None, in_reply_to_status_id_str=None, in_reply_to_user_id=None, in_reply_to_user_id_str=None, in_reply_to_screen_name=None, author=User(_api=<tweepy.api.API object at 0x000001D7364E8400>, _json={'id': 1172655487, 'id_str': '1172655487', 'name': 'Aditya Suman', 'screen_name': 'cricadi03', 'location': 'Motihari, India', 'description': 'Fan of #Sehwag/#RohitSharma/#Warner/#Dravid/#MegLanning/#ShaneBond/#Aagarkar\\n\\nBelieve in numbers more than words.\\n\\nMember of SCSI', 'url': 'https://t.co/kc0cBN01pQ', 'entities': {'url': {'urls': [{'url': 'https://t.co/kc0cBN01pQ', 'expanded_url': 'http://www.cricadi03.wordpress.com', 'display_url': 'cricadi03.wordpress.com', 'indices': [0, 23]}]}, 'description': {'urls': []}}, 'protected': False, 'followers_count': 676, 'friends_count': 165, 'listed_count': 20, 'created_at': 'Tue Feb 12 17:48:10 +0000 2013', 'favourites_count': 9861, 'utc_offset': None, 'time_zone': None, 'geo_enabled': True, 'verified': False, 'statuses_count': 15826, 'lang': None, 'contributors_enabled': False, 'is_translator': False, 'is_translation_enabled': False, 'profile_background_color': '642D8B', 'profile_background_image_url': 'http://abs.twimg.com/images/themes/theme10/bg.gif', 'profile_background_image_url_https': 'https://abs.twimg.com/images/themes/theme10/bg.gif', 'profile_background_tile': True, 'profile_image_url': 'http://pbs.twimg.com/profile_images/1195961240662601728/lGKaO7-1_normal.jpg', 'profile_image_url_https': 'https://pbs.twimg.com/profile_images/1195961240662601728/lGKaO7-1_normal.jpg', 'profile_banner_url': 'https://pbs.twimg.com/profile_banners/1172655487/1572197332', 'profile_link_color': '632929', 'profile_sidebar_border_color': '65B0DA', 'profile_sidebar_fill_color': '7AC3EE', 'profile_text_color': '3D1957', 'profile_use_background_image': True, 'has_extended_profile': True, 'default_profile': False, 'default_profile_image': False, 'following': False, 'follow_request_sent': False, 'notifications': False, 'translator_type': 'none'}, id=1172655487, id_str='1172655487', name='Aditya Suman', screen_name='cricadi03', location='Motihari, India', description='Fan of #Sehwag/#RohitSharma/#Warner/#Dravid/#MegLanning/#ShaneBond/#Aagarkar\\n\\nBelieve in numbers more than words.\\n\\nMember of SCSI', url='https://t.co/kc0cBN01pQ', entities={'url': {'urls': [{'url': 'https://t.co/kc0cBN01pQ', 'expanded_url': 'http://www.cricadi03.wordpress.com', 'display_url': 'cricadi03.wordpress.com', 'indices': [0, 23]}]}, 'description': {'urls': []}}, protected=False, followers_count=676, friends_count=165, listed_count=20, created_at=datetime.datetime(2013, 2, 12, 17, 48, 10), favourites_count=9861, utc_offset=None, time_zone=None, geo_enabled=True, verified=False, statuses_count=15826, lang=None, contributors_enabled=False, is_translator=False, is_translation_enabled=False, profile_background_color='642D8B', profile_background_image_url='http://abs.twimg.com/images/themes/theme10/bg.gif', profile_background_image_url_https='https://abs.twimg.com/images/themes/theme10/bg.gif', profile_background_tile=True, profile_image_url='http://pbs.twimg.com/profile_images/1195961240662601728/lGKaO7-1_normal.jpg', profile_image_url_https='https://pbs.twimg.com/profile_images/1195961240662601728/lGKaO7-1_normal.jpg', profile_banner_url='https://pbs.twimg.com/profile_banners/1172655487/1572197332', profile_link_color='632929', profile_sidebar_border_color='65B0DA', profile_sidebar_fill_color='7AC3EE', profile_text_color='3D1957', profile_use_background_image=True, has_extended_profile=True, default_profile=False, default_profile_image=False, following=False, follow_request_sent=False, notifications=False, translator_type='none'), user=User(_api=<tweepy.api.API object at 0x000001D7364E8400>, _json={'id': 1172655487, 'id_str': '1172655487', 'name': 'Aditya Suman', 'screen_name': 'cricadi03', 'location': 'Motihari, India', 'description': 'Fan of #Sehwag/#RohitSharma/#Warner/#Dravid/#MegLanning/#ShaneBond/#Aagarkar\\n\\nBelieve in numbers more than words.\\n\\nMember of SCSI', 'url': 'https://t.co/kc0cBN01pQ', 'entities': {'url': {'urls': [{'url': 'https://t.co/kc0cBN01pQ', 'expanded_url': 'http://www.cricadi03.wordpress.com', 'display_url': 'cricadi03.wordpress.com', 'indices': [0, 23]}]}, 'description': {'urls': []}}, 'protected': False, 'followers_count': 676, 'friends_count': 165, 'listed_count': 20, 'created_at': 'Tue Feb 12 17:48:10 +0000 2013', 'favourites_count': 9861, 'utc_offset': None, 'time_zone': None, 'geo_enabled': True, 'verified': False, 'statuses_count': 15826, 'lang': None, 'contributors_enabled': False, 'is_translator': False, 'is_translation_enabled': False, 'profile_background_color': '642D8B', 'profile_background_image_url': 'http://abs.twimg.com/images/themes/theme10/bg.gif', 'profile_background_image_url_https': 'https://abs.twimg.com/images/themes/theme10/bg.gif', 'profile_background_tile': True, 'profile_image_url': 'http://pbs.twimg.com/profile_images/1195961240662601728/lGKaO7-1_normal.jpg', 'profile_image_url_https': 'https://pbs.twimg.com/profile_images/1195961240662601728/lGKaO7-1_normal.jpg', 'profile_banner_url': 'https://pbs.twimg.com/profile_banners/1172655487/1572197332', 'profile_link_color': '632929', 'profile_sidebar_border_color': '65B0DA', 'profile_sidebar_fill_color': '7AC3EE', 'profile_text_color': '3D1957', 'profile_use_background_image': True, 'has_extended_profile': True, 'default_profile': False, 'default_profile_image': False, 'following': False, 'follow_request_sent': False, 'notifications': False, 'translator_type': 'none'}, id=1172655487, id_str='1172655487', name='Aditya Suman', screen_name='cricadi03', location='Motihari, India', description='Fan of #Sehwag/#RohitSharma/#Warner/#Dravid/#MegLanning/#ShaneBond/#Aagarkar\\n\\nBelieve in numbers more than words.\\n\\nMember of SCSI', url='https://t.co/kc0cBN01pQ', entities={'url': {'urls': [{'url': 'https://t.co/kc0cBN01pQ', 'expanded_url': 'http://www.cricadi03.wordpress.com', 'display_url': 'cricadi03.wordpress.com', 'indices': [0, 23]}]}, 'description': {'urls': []}}, protected=False, followers_count=676, friends_count=165, listed_count=20, created_at=datetime.datetime(2013, 2, 12, 17, 48, 10), favourites_count=9861, utc_offset=None, time_zone=None, geo_enabled=True, verified=False, statuses_count=15826, lang=None, contributors_enabled=False, is_translator=False, is_translation_enabled=False, profile_background_color='642D8B', profile_background_image_url='http://abs.twimg.com/images/themes/theme10/bg.gif', profile_background_image_url_https='https://abs.twimg.com/images/themes/theme10/bg.gif', profile_background_tile=True, profile_image_url='http://pbs.twimg.com/profile_images/1195961240662601728/lGKaO7-1_normal.jpg', profile_image_url_https='https://pbs.twimg.com/profile_images/1195961240662601728/lGKaO7-1_normal.jpg', profile_banner_url='https://pbs.twimg.com/profile_banners/1172655487/1572197332', profile_link_color='632929', profile_sidebar_border_color='65B0DA', profile_sidebar_fill_color='7AC3EE', profile_text_color='3D1957', profile_use_background_image=True, has_extended_profile=True, default_profile=False, default_profile_image=False, following=False, follow_request_sent=False, notifications=False, translator_type='none'), geo=None, coordinates=None, place=None, contributors=None, is_quote_status=False, retweet_count=1, favorite_count=10, favorited=False, retweeted=False, lang='en') \n",
      "\n",
      ".....................................\n",
      "\n",
      "Status(_api=<tweepy.api.API object at 0x000001D7364E8400>, _json={'created_at': 'Tue Nov 10 17:49:47 +0000 2020', 'id': 1326220523303563265, 'id_str': '1326220523303563265', 'full_text': 'Players part of most #IPL title wins:\\n(played in the XI)\\n6- Rohit Sharma (2009-DC,2013/2015/2017/2019/2020-MI)\\n5- K Pollard (2013/2015/2017/2019/2020-MI)\\n4- L Malinga (2013/2015/2017/2019-MI)\\n4- A Rayudu (2013/2015/2017-MI, 2018-CSK)\\n4- H Pandya (2015/2017/2019/2020-MI)\\n#IPL2020', 'truncated': False, 'display_text_range': [0, 279], 'entities': {'hashtags': [{'text': 'IPL', 'indices': [21, 25]}, {'text': 'IPL2020', 'indices': [271, 279]}], 'symbols': [], 'user_mentions': [], 'urls': []}, 'metadata': {'iso_language_code': 'en', 'result_type': 'recent'}, 'source': '<a href=\"https://mobile.twitter.com\" rel=\"nofollow\">Twitter Web App</a>', 'in_reply_to_status_id': None, 'in_reply_to_status_id_str': None, 'in_reply_to_user_id': None, 'in_reply_to_user_id_str': None, 'in_reply_to_screen_name': None, 'user': {'id': 55251954, 'id_str': '55251954', 'name': 'Rajneesh Gupta', 'screen_name': 'rgcricket', 'location': '', 'description': 'Cricket statistician | If you torture numbers long enough, they will tell you whatever you want to hear!', 'url': None, 'entities': {'description': {'urls': []}}, 'protected': False, 'followers_count': 40988, 'friends_count': 200, 'listed_count': 244, 'created_at': 'Thu Jul 09 14:35:23 +0000 2009', 'favourites_count': 1505, 'utc_offset': None, 'time_zone': None, 'geo_enabled': True, 'verified': True, 'statuses_count': 10262, 'lang': None, 'contributors_enabled': False, 'is_translator': False, 'is_translation_enabled': False, 'profile_background_color': 'C0DEED', 'profile_background_image_url': 'http://abs.twimg.com/images/themes/theme1/bg.png', 'profile_background_image_url_https': 'https://abs.twimg.com/images/themes/theme1/bg.png', 'profile_background_tile': False, 'profile_image_url': 'http://pbs.twimg.com/profile_images/947660755901456386/Ywe51nL-_normal.jpg', 'profile_image_url_https': 'https://pbs.twimg.com/profile_images/947660755901456386/Ywe51nL-_normal.jpg', 'profile_banner_url': 'https://pbs.twimg.com/profile_banners/55251954/1472448968', 'profile_link_color': '1B95E0', 'profile_sidebar_border_color': 'FFFFFF', 'profile_sidebar_fill_color': 'DDEEF6', 'profile_text_color': '333333', 'profile_use_background_image': True, 'has_extended_profile': False, 'default_profile': False, 'default_profile_image': False, 'following': False, 'follow_request_sent': False, 'notifications': False, 'translator_type': 'none'}, 'geo': None, 'coordinates': None, 'place': None, 'contributors': None, 'is_quote_status': False, 'retweet_count': 9, 'favorite_count': 65, 'favorited': False, 'retweeted': False, 'lang': 'en'}, created_at=datetime.datetime(2020, 11, 10, 17, 49, 47), id=1326220523303563265, id_str='1326220523303563265', full_text='Players part of most #IPL title wins:\\n(played in the XI)\\n6- Rohit Sharma (2009-DC,2013/2015/2017/2019/2020-MI)\\n5- K Pollard (2013/2015/2017/2019/2020-MI)\\n4- L Malinga (2013/2015/2017/2019-MI)\\n4- A Rayudu (2013/2015/2017-MI, 2018-CSK)\\n4- H Pandya (2015/2017/2019/2020-MI)\\n#IPL2020', truncated=False, display_text_range=[0, 279], entities={'hashtags': [{'text': 'IPL', 'indices': [21, 25]}, {'text': 'IPL2020', 'indices': [271, 279]}], 'symbols': [], 'user_mentions': [], 'urls': []}, metadata={'iso_language_code': 'en', 'result_type': 'recent'}, source='Twitter Web App', source_url='https://mobile.twitter.com', in_reply_to_status_id=None, in_reply_to_status_id_str=None, in_reply_to_user_id=None, in_reply_to_user_id_str=None, in_reply_to_screen_name=None, author=User(_api=<tweepy.api.API object at 0x000001D7364E8400>, _json={'id': 55251954, 'id_str': '55251954', 'name': 'Rajneesh Gupta', 'screen_name': 'rgcricket', 'location': '', 'description': 'Cricket statistician | If you torture numbers long enough, they will tell you whatever you want to hear!', 'url': None, 'entities': {'description': {'urls': []}}, 'protected': False, 'followers_count': 40988, 'friends_count': 200, 'listed_count': 244, 'created_at': 'Thu Jul 09 14:35:23 +0000 2009', 'favourites_count': 1505, 'utc_offset': None, 'time_zone': None, 'geo_enabled': True, 'verified': True, 'statuses_count': 10262, 'lang': None, 'contributors_enabled': False, 'is_translator': False, 'is_translation_enabled': False, 'profile_background_color': 'C0DEED', 'profile_background_image_url': 'http://abs.twimg.com/images/themes/theme1/bg.png', 'profile_background_image_url_https': 'https://abs.twimg.com/images/themes/theme1/bg.png', 'profile_background_tile': False, 'profile_image_url': 'http://pbs.twimg.com/profile_images/947660755901456386/Ywe51nL-_normal.jpg', 'profile_image_url_https': 'https://pbs.twimg.com/profile_images/947660755901456386/Ywe51nL-_normal.jpg', 'profile_banner_url': 'https://pbs.twimg.com/profile_banners/55251954/1472448968', 'profile_link_color': '1B95E0', 'profile_sidebar_border_color': 'FFFFFF', 'profile_sidebar_fill_color': 'DDEEF6', 'profile_text_color': '333333', 'profile_use_background_image': True, 'has_extended_profile': False, 'default_profile': False, 'default_profile_image': False, 'following': False, 'follow_request_sent': False, 'notifications': False, 'translator_type': 'none'}, id=55251954, id_str='55251954', name='Rajneesh Gupta', screen_name='rgcricket', location='', description='Cricket statistician | If you torture numbers long enough, they will tell you whatever you want to hear!', url=None, entities={'description': {'urls': []}}, protected=False, followers_count=40988, friends_count=200, listed_count=244, created_at=datetime.datetime(2009, 7, 9, 14, 35, 23), favourites_count=1505, utc_offset=None, time_zone=None, geo_enabled=True, verified=True, statuses_count=10262, lang=None, contributors_enabled=False, is_translator=False, is_translation_enabled=False, profile_background_color='C0DEED', profile_background_image_url='http://abs.twimg.com/images/themes/theme1/bg.png', profile_background_image_url_https='https://abs.twimg.com/images/themes/theme1/bg.png', profile_background_tile=False, profile_image_url='http://pbs.twimg.com/profile_images/947660755901456386/Ywe51nL-_normal.jpg', profile_image_url_https='https://pbs.twimg.com/profile_images/947660755901456386/Ywe51nL-_normal.jpg', profile_banner_url='https://pbs.twimg.com/profile_banners/55251954/1472448968', profile_link_color='1B95E0', profile_sidebar_border_color='FFFFFF', profile_sidebar_fill_color='DDEEF6', profile_text_color='333333', profile_use_background_image=True, has_extended_profile=False, default_profile=False, default_profile_image=False, following=False, follow_request_sent=False, notifications=False, translator_type='none'), user=User(_api=<tweepy.api.API object at 0x000001D7364E8400>, _json={'id': 55251954, 'id_str': '55251954', 'name': 'Rajneesh Gupta', 'screen_name': 'rgcricket', 'location': '', 'description': 'Cricket statistician | If you torture numbers long enough, they will tell you whatever you want to hear!', 'url': None, 'entities': {'description': {'urls': []}}, 'protected': False, 'followers_count': 40988, 'friends_count': 200, 'listed_count': 244, 'created_at': 'Thu Jul 09 14:35:23 +0000 2009', 'favourites_count': 1505, 'utc_offset': None, 'time_zone': None, 'geo_enabled': True, 'verified': True, 'statuses_count': 10262, 'lang': None, 'contributors_enabled': False, 'is_translator': False, 'is_translation_enabled': False, 'profile_background_color': 'C0DEED', 'profile_background_image_url': 'http://abs.twimg.com/images/themes/theme1/bg.png', 'profile_background_image_url_https': 'https://abs.twimg.com/images/themes/theme1/bg.png', 'profile_background_tile': False, 'profile_image_url': 'http://pbs.twimg.com/profile_images/947660755901456386/Ywe51nL-_normal.jpg', 'profile_image_url_https': 'https://pbs.twimg.com/profile_images/947660755901456386/Ywe51nL-_normal.jpg', 'profile_banner_url': 'https://pbs.twimg.com/profile_banners/55251954/1472448968', 'profile_link_color': '1B95E0', 'profile_sidebar_border_color': 'FFFFFF', 'profile_sidebar_fill_color': 'DDEEF6', 'profile_text_color': '333333', 'profile_use_background_image': True, 'has_extended_profile': False, 'default_profile': False, 'default_profile_image': False, 'following': False, 'follow_request_sent': False, 'notifications': False, 'translator_type': 'none'}, id=55251954, id_str='55251954', name='Rajneesh Gupta', screen_name='rgcricket', location='', description='Cricket statistician | If you torture numbers long enough, they will tell you whatever you want to hear!', url=None, entities={'description': {'urls': []}}, protected=False, followers_count=40988, friends_count=200, listed_count=244, created_at=datetime.datetime(2009, 7, 9, 14, 35, 23), favourites_count=1505, utc_offset=None, time_zone=None, geo_enabled=True, verified=True, statuses_count=10262, lang=None, contributors_enabled=False, is_translator=False, is_translation_enabled=False, profile_background_color='C0DEED', profile_background_image_url='http://abs.twimg.com/images/themes/theme1/bg.png', profile_background_image_url_https='https://abs.twimg.com/images/themes/theme1/bg.png', profile_background_tile=False, profile_image_url='http://pbs.twimg.com/profile_images/947660755901456386/Ywe51nL-_normal.jpg', profile_image_url_https='https://pbs.twimg.com/profile_images/947660755901456386/Ywe51nL-_normal.jpg', profile_banner_url='https://pbs.twimg.com/profile_banners/55251954/1472448968', profile_link_color='1B95E0', profile_sidebar_border_color='FFFFFF', profile_sidebar_fill_color='DDEEF6', profile_text_color='333333', profile_use_background_image=True, has_extended_profile=False, default_profile=False, default_profile_image=False, following=False, follow_request_sent=False, notifications=False, translator_type='none'), geo=None, coordinates=None, place=None, contributors=None, is_quote_status=False, retweet_count=9, favorite_count=65, favorited=False, retweeted=False, lang='en') \n",
      "\n",
      ".....................................\n",
      "\n"
     ]
    }
   ],
   "source": [
    "Tweets = api.search( query , count=10 , lang='en' , exclude='retweets' , tweet_mode='extended' )\n",
    "# tweet_mode='extended'\n",
    "# tweet_mode='compat'\n",
    "\n",
    "for tweet in Tweets:\n",
    "    print(tweet,\"\\n\")\n",
    "    print(\".....................................\\n\")"
   ]
  },
  {
   "cell_type": "markdown",
   "metadata": {},
   "source": [
    "### Get the tweets and some Attributes"
   ]
  },
  {
   "cell_type": "code",
   "execution_count": 6,
   "metadata": {},
   "outputs": [
    {
     "name": "stdout",
     "output_type": "stream",
     "text": [
      "Empty DataFrame\n",
      "Columns: [Tweets, User, User_statuses_count, user_followers, User_location, User_verified, fav_count, rt_count, tweet_date]\n",
      "Index: []\n"
     ]
    }
   ],
   "source": [
    "df = pd.DataFrame(columns = ['Tweets' , 'User' , 'User_statuses_count' , \n",
    "                            'user_followers' , 'User_location' , 'User_verified' ,\n",
    "                            'fav_count' , 'rt_count' , 'tweet_date'] )\n",
    "print(df)\n",
    "# print(df.shape)"
   ]
  },
  {
   "cell_type": "code",
   "execution_count": 7,
   "metadata": {},
   "outputs": [],
   "source": [
    "def stream(data, file_name):\n",
    "    i = 0\n",
    "    for tweet in tweepy.Cursor(api.search, q=data, count=100, lang='en').items():\n",
    "        print(i, end='\\r')\n",
    "        df.loc[i, 'Tweets'] = tweet.text\n",
    "        df.loc[i, 'User'] = tweet.user.name\n",
    "        df.loc[i, 'User_statuses_count'] = tweet.user.statuses_count\n",
    "        df.loc[i, 'user_followers'] = tweet.user.followers_count\n",
    "        df.loc[i, 'User_location'] = tweet.user.location\n",
    "        df.loc[i, 'User_verified'] = tweet.user.verified\n",
    "        df.loc[i, 'fav_count'] = tweet.favorite_count\n",
    "        df.loc[i, 'rt_count'] = tweet.retweet_count\n",
    "        df.loc[i, 'tweet_date'] = tweet.created_at\n",
    "        df.to_excel('{}.xlsx'.format(file_name))\n",
    "        i = i+1\n",
    "        if i == 1000:\n",
    "            break\n",
    "        else:\n",
    "            pass"
   ]
  },
  {
   "cell_type": "code",
   "execution_count": 8,
   "metadata": {},
   "outputs": [
    {
     "name": "stdout",
     "output_type": "stream",
     "text": [
      "132\r"
     ]
    }
   ],
   "source": [
    "stream(data=[\"dc wins ipl 2020\"] , file_name='dc_tweets')"
   ]
  },
  {
   "cell_type": "code",
   "execution_count": 9,
   "metadata": {},
   "outputs": [
    {
     "data": {
      "text/html": [
       "<div>\n",
       "<style scoped>\n",
       "    .dataframe tbody tr th:only-of-type {\n",
       "        vertical-align: middle;\n",
       "    }\n",
       "\n",
       "    .dataframe tbody tr th {\n",
       "        vertical-align: top;\n",
       "    }\n",
       "\n",
       "    .dataframe thead th {\n",
       "        text-align: right;\n",
       "    }\n",
       "</style>\n",
       "<table border=\"1\" class=\"dataframe\">\n",
       "  <thead>\n",
       "    <tr style=\"text-align: right;\">\n",
       "      <th></th>\n",
       "      <th>Tweets</th>\n",
       "      <th>User</th>\n",
       "      <th>User_statuses_count</th>\n",
       "      <th>user_followers</th>\n",
       "      <th>User_location</th>\n",
       "      <th>User_verified</th>\n",
       "      <th>fav_count</th>\n",
       "      <th>rt_count</th>\n",
       "      <th>tweet_date</th>\n",
       "    </tr>\n",
       "  </thead>\n",
       "  <tbody>\n",
       "    <tr>\n",
       "      <th>0</th>\n",
       "      <td>It's for the second time when the #KXIP Player...</td>\n",
       "      <td>Cricadium CRICKET</td>\n",
       "      <td>12808</td>\n",
       "      <td>541</td>\n",
       "      <td>Mainly at Stadium</td>\n",
       "      <td>False</td>\n",
       "      <td>1</td>\n",
       "      <td>0</td>\n",
       "      <td>2020-11-11 13:28:35</td>\n",
       "    </tr>\n",
       "    <tr>\n",
       "      <th>1</th>\n",
       "      <td>The DC speedster wins the IPL 2020  Purple Cap...</td>\n",
       "      <td>FCL Games</td>\n",
       "      <td>606</td>\n",
       "      <td>39</td>\n",
       "      <td></td>\n",
       "      <td>False</td>\n",
       "      <td>0</td>\n",
       "      <td>0</td>\n",
       "      <td>2020-11-11 11:30:14</td>\n",
       "    </tr>\n",
       "    <tr>\n",
       "      <th>2</th>\n",
       "      <td>RT @rgcricket: Players part of most #IPL title...</td>\n",
       "      <td>Gulshan Arora</td>\n",
       "      <td>4871</td>\n",
       "      <td>62</td>\n",
       "      <td>Mohali, Punjab, India</td>\n",
       "      <td>False</td>\n",
       "      <td>0</td>\n",
       "      <td>9</td>\n",
       "      <td>2020-11-11 07:41:06</td>\n",
       "    </tr>\n",
       "    <tr>\n",
       "      <th>3</th>\n",
       "      <td>IPL 2020 final, MI vs DC: Mumbai wins its fift...</td>\n",
       "      <td>Pakhi goyel</td>\n",
       "      <td>21687</td>\n",
       "      <td>1503</td>\n",
       "      <td>Mumbai, India</td>\n",
       "      <td>False</td>\n",
       "      <td>0</td>\n",
       "      <td>0</td>\n",
       "      <td>2020-11-11 04:59:52</td>\n",
       "    </tr>\n",
       "    <tr>\n",
       "      <th>4</th>\n",
       "      <td>RT @sportstarweb: \"Our work started long befor...</td>\n",
       "      <td>रᴇʙᴇﾚ⁴⁵</td>\n",
       "      <td>16702</td>\n",
       "      <td>242</td>\n",
       "      <td>HINDUstan</td>\n",
       "      <td>False</td>\n",
       "      <td>0</td>\n",
       "      <td>2</td>\n",
       "      <td>2020-11-11 02:03:01</td>\n",
       "    </tr>\n",
       "  </tbody>\n",
       "</table>\n",
       "</div>"
      ],
      "text/plain": [
       "                                              Tweets               User  \\\n",
       "0  It's for the second time when the #KXIP Player...  Cricadium CRICKET   \n",
       "1  The DC speedster wins the IPL 2020  Purple Cap...          FCL Games   \n",
       "2  RT @rgcricket: Players part of most #IPL title...      Gulshan Arora   \n",
       "3  IPL 2020 final, MI vs DC: Mumbai wins its fift...        Pakhi goyel   \n",
       "4  RT @sportstarweb: \"Our work started long befor...            रᴇʙᴇﾚ⁴⁵   \n",
       "\n",
       "  User_statuses_count user_followers          User_location User_verified  \\\n",
       "0               12808            541      Mainly at Stadium         False   \n",
       "1                 606             39                                False   \n",
       "2                4871             62  Mohali, Punjab, India         False   \n",
       "3               21687           1503          Mumbai, India         False   \n",
       "4               16702            242              HINDUstan         False   \n",
       "\n",
       "  fav_count rt_count           tweet_date  \n",
       "0         1        0  2020-11-11 13:28:35  \n",
       "1         0        0  2020-11-11 11:30:14  \n",
       "2         0        9  2020-11-11 07:41:06  \n",
       "3         0        0  2020-11-11 04:59:52  \n",
       "4         0        2  2020-11-11 02:03:01  "
      ]
     },
     "execution_count": 9,
     "metadata": {},
     "output_type": "execute_result"
    }
   ],
   "source": [
    "df.head()"
   ]
  },
  {
   "cell_type": "raw",
   "metadata": {},
   "source": [
    "Sentiment(polarity, subjectivity)\n",
    "\n",
    "Polarity score: [-1 , +1]\n",
    "\n",
    "Subjectivity: [0.0 , 1.0] \n",
    "where 0.0 is very Objective and 1.0 is very Subjective."
   ]
  },
  {
   "cell_type": "code",
   "execution_count": 10,
   "metadata": {},
   "outputs": [],
   "source": [
    "from textblob import TextBlob"
   ]
  },
  {
   "cell_type": "code",
   "execution_count": 11,
   "metadata": {},
   "outputs": [],
   "source": [
    "import re\n",
    "def clean_tweet(tweet):\n",
    "    return ' '.join(re.sub('(@[A-Za-z0-9]+)|([^0-9A-Za-z \\t])|(\\w+:\\/\\/\\S+)', ' ', tweet).split())"
   ]
  },
  {
   "cell_type": "code",
   "execution_count": 12,
   "metadata": {},
   "outputs": [],
   "source": [
    "def analyze_sentiment(tweet):\n",
    "    analysis = TextBlob(tweet)\n",
    "    if analysis.sentiment.polarity > 0:\n",
    "        return 'Positive'\n",
    "    elif analysis.sentiment.polarity == 0:\n",
    "        return 'Neutral'\n",
    "    else:\n",
    "        return 'Negative'"
   ]
  },
  {
   "cell_type": "code",
   "execution_count": 13,
   "metadata": {},
   "outputs": [],
   "source": [
    "df['clean_tweet'] = df['Tweets'].apply(lambda x : clean_tweet(x))"
   ]
  },
  {
   "cell_type": "code",
   "execution_count": 14,
   "metadata": {},
   "outputs": [
    {
     "data": {
      "text/html": [
       "<div>\n",
       "<style scoped>\n",
       "    .dataframe tbody tr th:only-of-type {\n",
       "        vertical-align: middle;\n",
       "    }\n",
       "\n",
       "    .dataframe tbody tr th {\n",
       "        vertical-align: top;\n",
       "    }\n",
       "\n",
       "    .dataframe thead th {\n",
       "        text-align: right;\n",
       "    }\n",
       "</style>\n",
       "<table border=\"1\" class=\"dataframe\">\n",
       "  <thead>\n",
       "    <tr style=\"text-align: right;\">\n",
       "      <th></th>\n",
       "      <th>Tweets</th>\n",
       "      <th>User</th>\n",
       "      <th>User_statuses_count</th>\n",
       "      <th>user_followers</th>\n",
       "      <th>User_location</th>\n",
       "      <th>User_verified</th>\n",
       "      <th>fav_count</th>\n",
       "      <th>rt_count</th>\n",
       "      <th>tweet_date</th>\n",
       "      <th>clean_tweet</th>\n",
       "    </tr>\n",
       "  </thead>\n",
       "  <tbody>\n",
       "    <tr>\n",
       "      <th>0</th>\n",
       "      <td>It's for the second time when the #KXIP Player...</td>\n",
       "      <td>Cricadium CRICKET</td>\n",
       "      <td>12808</td>\n",
       "      <td>541</td>\n",
       "      <td>Mainly at Stadium</td>\n",
       "      <td>False</td>\n",
       "      <td>1</td>\n",
       "      <td>0</td>\n",
       "      <td>2020-11-11 13:28:35</td>\n",
       "      <td>It s for the second time when the KXIP Player ...</td>\n",
       "    </tr>\n",
       "    <tr>\n",
       "      <th>1</th>\n",
       "      <td>The DC speedster wins the IPL 2020  Purple Cap...</td>\n",
       "      <td>FCL Games</td>\n",
       "      <td>606</td>\n",
       "      <td>39</td>\n",
       "      <td></td>\n",
       "      <td>False</td>\n",
       "      <td>0</td>\n",
       "      <td>0</td>\n",
       "      <td>2020-11-11 11:30:14</td>\n",
       "      <td>The DC speedster wins the IPL 2020 Purple Cap ...</td>\n",
       "    </tr>\n",
       "    <tr>\n",
       "      <th>2</th>\n",
       "      <td>RT @rgcricket: Players part of most #IPL title...</td>\n",
       "      <td>Gulshan Arora</td>\n",
       "      <td>4871</td>\n",
       "      <td>62</td>\n",
       "      <td>Mohali, Punjab, India</td>\n",
       "      <td>False</td>\n",
       "      <td>0</td>\n",
       "      <td>9</td>\n",
       "      <td>2020-11-11 07:41:06</td>\n",
       "      <td>RT Players part of most IPL title wins played ...</td>\n",
       "    </tr>\n",
       "    <tr>\n",
       "      <th>3</th>\n",
       "      <td>IPL 2020 final, MI vs DC: Mumbai wins its fift...</td>\n",
       "      <td>Pakhi goyel</td>\n",
       "      <td>21687</td>\n",
       "      <td>1503</td>\n",
       "      <td>Mumbai, India</td>\n",
       "      <td>False</td>\n",
       "      <td>0</td>\n",
       "      <td>0</td>\n",
       "      <td>2020-11-11 04:59:52</td>\n",
       "      <td>IPL 2020 final MI vs DC Mumbai wins its fifth ...</td>\n",
       "    </tr>\n",
       "    <tr>\n",
       "      <th>4</th>\n",
       "      <td>RT @sportstarweb: \"Our work started long befor...</td>\n",
       "      <td>रᴇʙᴇﾚ⁴⁵</td>\n",
       "      <td>16702</td>\n",
       "      <td>242</td>\n",
       "      <td>HINDUstan</td>\n",
       "      <td>False</td>\n",
       "      <td>0</td>\n",
       "      <td>2</td>\n",
       "      <td>2020-11-11 02:03:01</td>\n",
       "      <td>RT Our work started long before the IPL starte...</td>\n",
       "    </tr>\n",
       "  </tbody>\n",
       "</table>\n",
       "</div>"
      ],
      "text/plain": [
       "                                              Tweets               User  \\\n",
       "0  It's for the second time when the #KXIP Player...  Cricadium CRICKET   \n",
       "1  The DC speedster wins the IPL 2020  Purple Cap...          FCL Games   \n",
       "2  RT @rgcricket: Players part of most #IPL title...      Gulshan Arora   \n",
       "3  IPL 2020 final, MI vs DC: Mumbai wins its fift...        Pakhi goyel   \n",
       "4  RT @sportstarweb: \"Our work started long befor...            रᴇʙᴇﾚ⁴⁵   \n",
       "\n",
       "  User_statuses_count user_followers          User_location User_verified  \\\n",
       "0               12808            541      Mainly at Stadium         False   \n",
       "1                 606             39                                False   \n",
       "2                4871             62  Mohali, Punjab, India         False   \n",
       "3               21687           1503          Mumbai, India         False   \n",
       "4               16702            242              HINDUstan         False   \n",
       "\n",
       "  fav_count rt_count           tweet_date  \\\n",
       "0         1        0  2020-11-11 13:28:35   \n",
       "1         0        0  2020-11-11 11:30:14   \n",
       "2         0        9  2020-11-11 07:41:06   \n",
       "3         0        0  2020-11-11 04:59:52   \n",
       "4         0        2  2020-11-11 02:03:01   \n",
       "\n",
       "                                         clean_tweet  \n",
       "0  It s for the second time when the KXIP Player ...  \n",
       "1  The DC speedster wins the IPL 2020 Purple Cap ...  \n",
       "2  RT Players part of most IPL title wins played ...  \n",
       "3  IPL 2020 final MI vs DC Mumbai wins its fifth ...  \n",
       "4  RT Our work started long before the IPL starte...  "
      ]
     },
     "execution_count": 14,
     "metadata": {},
     "output_type": "execute_result"
    }
   ],
   "source": [
    "df.head()"
   ]
  },
  {
   "cell_type": "code",
   "execution_count": 15,
   "metadata": {},
   "outputs": [
    {
     "data": {
      "text/html": [
       "<div>\n",
       "<style scoped>\n",
       "    .dataframe tbody tr th:only-of-type {\n",
       "        vertical-align: middle;\n",
       "    }\n",
       "\n",
       "    .dataframe tbody tr th {\n",
       "        vertical-align: top;\n",
       "    }\n",
       "\n",
       "    .dataframe thead th {\n",
       "        text-align: right;\n",
       "    }\n",
       "</style>\n",
       "<table border=\"1\" class=\"dataframe\">\n",
       "  <thead>\n",
       "    <tr style=\"text-align: right;\">\n",
       "      <th></th>\n",
       "      <th>Tweets</th>\n",
       "      <th>User</th>\n",
       "      <th>User_statuses_count</th>\n",
       "      <th>user_followers</th>\n",
       "      <th>User_location</th>\n",
       "      <th>User_verified</th>\n",
       "      <th>fav_count</th>\n",
       "      <th>rt_count</th>\n",
       "      <th>tweet_date</th>\n",
       "      <th>clean_tweet</th>\n",
       "      <th>Sentiment</th>\n",
       "    </tr>\n",
       "  </thead>\n",
       "  <tbody>\n",
       "    <tr>\n",
       "      <th>0</th>\n",
       "      <td>It's for the second time when the #KXIP Player...</td>\n",
       "      <td>Cricadium CRICKET</td>\n",
       "      <td>12808</td>\n",
       "      <td>541</td>\n",
       "      <td>Mainly at Stadium</td>\n",
       "      <td>False</td>\n",
       "      <td>1</td>\n",
       "      <td>0</td>\n",
       "      <td>2020-11-11 13:28:35</td>\n",
       "      <td>It s for the second time when the KXIP Player ...</td>\n",
       "      <td>Positive</td>\n",
       "    </tr>\n",
       "    <tr>\n",
       "      <th>1</th>\n",
       "      <td>The DC speedster wins the IPL 2020  Purple Cap...</td>\n",
       "      <td>FCL Games</td>\n",
       "      <td>606</td>\n",
       "      <td>39</td>\n",
       "      <td></td>\n",
       "      <td>False</td>\n",
       "      <td>0</td>\n",
       "      <td>0</td>\n",
       "      <td>2020-11-11 11:30:14</td>\n",
       "      <td>The DC speedster wins the IPL 2020 Purple Cap ...</td>\n",
       "      <td>Positive</td>\n",
       "    </tr>\n",
       "    <tr>\n",
       "      <th>2</th>\n",
       "      <td>RT @rgcricket: Players part of most #IPL title...</td>\n",
       "      <td>Gulshan Arora</td>\n",
       "      <td>4871</td>\n",
       "      <td>62</td>\n",
       "      <td>Mohali, Punjab, India</td>\n",
       "      <td>False</td>\n",
       "      <td>0</td>\n",
       "      <td>9</td>\n",
       "      <td>2020-11-11 07:41:06</td>\n",
       "      <td>RT Players part of most IPL title wins played ...</td>\n",
       "      <td>Positive</td>\n",
       "    </tr>\n",
       "    <tr>\n",
       "      <th>3</th>\n",
       "      <td>IPL 2020 final, MI vs DC: Mumbai wins its fift...</td>\n",
       "      <td>Pakhi goyel</td>\n",
       "      <td>21687</td>\n",
       "      <td>1503</td>\n",
       "      <td>Mumbai, India</td>\n",
       "      <td>False</td>\n",
       "      <td>0</td>\n",
       "      <td>0</td>\n",
       "      <td>2020-11-11 04:59:52</td>\n",
       "      <td>IPL 2020 final MI vs DC Mumbai wins its fifth ...</td>\n",
       "      <td>Positive</td>\n",
       "    </tr>\n",
       "    <tr>\n",
       "      <th>4</th>\n",
       "      <td>RT @sportstarweb: \"Our work started long befor...</td>\n",
       "      <td>रᴇʙᴇﾚ⁴⁵</td>\n",
       "      <td>16702</td>\n",
       "      <td>242</td>\n",
       "      <td>HINDUstan</td>\n",
       "      <td>False</td>\n",
       "      <td>0</td>\n",
       "      <td>2</td>\n",
       "      <td>2020-11-11 02:03:01</td>\n",
       "      <td>RT Our work started long before the IPL starte...</td>\n",
       "      <td>Positive</td>\n",
       "    </tr>\n",
       "  </tbody>\n",
       "</table>\n",
       "</div>"
      ],
      "text/plain": [
       "                                              Tweets               User  \\\n",
       "0  It's for the second time when the #KXIP Player...  Cricadium CRICKET   \n",
       "1  The DC speedster wins the IPL 2020  Purple Cap...          FCL Games   \n",
       "2  RT @rgcricket: Players part of most #IPL title...      Gulshan Arora   \n",
       "3  IPL 2020 final, MI vs DC: Mumbai wins its fift...        Pakhi goyel   \n",
       "4  RT @sportstarweb: \"Our work started long befor...            रᴇʙᴇﾚ⁴⁵   \n",
       "\n",
       "  User_statuses_count user_followers          User_location User_verified  \\\n",
       "0               12808            541      Mainly at Stadium         False   \n",
       "1                 606             39                                False   \n",
       "2                4871             62  Mohali, Punjab, India         False   \n",
       "3               21687           1503          Mumbai, India         False   \n",
       "4               16702            242              HINDUstan         False   \n",
       "\n",
       "  fav_count rt_count           tweet_date  \\\n",
       "0         1        0  2020-11-11 13:28:35   \n",
       "1         0        0  2020-11-11 11:30:14   \n",
       "2         0        9  2020-11-11 07:41:06   \n",
       "3         0        0  2020-11-11 04:59:52   \n",
       "4         0        2  2020-11-11 02:03:01   \n",
       "\n",
       "                                         clean_tweet Sentiment  \n",
       "0  It s for the second time when the KXIP Player ...  Positive  \n",
       "1  The DC speedster wins the IPL 2020 Purple Cap ...  Positive  \n",
       "2  RT Players part of most IPL title wins played ...  Positive  \n",
       "3  IPL 2020 final MI vs DC Mumbai wins its fifth ...  Positive  \n",
       "4  RT Our work started long before the IPL starte...  Positive  "
      ]
     },
     "execution_count": 15,
     "metadata": {},
     "output_type": "execute_result"
    }
   ],
   "source": [
    "df['Sentiment'] = df['clean_tweet'].apply(lambda x : analyze_sentiment(x) )\n",
    "df.head()"
   ]
  },
  {
   "cell_type": "markdown",
   "metadata": {},
   "source": [
    "### analysis of tweets"
   ]
  },
  {
   "cell_type": "code",
   "execution_count": 16,
   "metadata": {},
   "outputs": [
    {
     "name": "stdout",
     "output_type": "stream",
     "text": [
      "Original tweet:\n",
      " The DC speedster wins the IPL 2020  Purple Cap for his lethal bowling accuracy and a nag for always picking wickets… https://t.co/vYA79zzpah\n",
      "\n",
      "Clean tweet:\n",
      " The DC speedster wins the IPL 2020 Purple Cap for his lethal bowling accuracy and a nag for always picking wickets\n",
      "\n",
      "Sentiment of the tweet:\n",
      " Positive\n"
     ]
    }
   ],
   "source": [
    "n = 1\n",
    "print(\"Original tweet:\\n\",df['Tweets'][n])\n",
    "print()\n",
    "print(\"Clean tweet:\\n\",df['clean_tweet'][n])\n",
    "print()\n",
    "print(\"Sentiment of the tweet:\\n\",df['Sentiment'][n])"
   ]
  },
  {
   "cell_type": "code",
   "execution_count": 17,
   "metadata": {},
   "outputs": [
    {
     "name": "stdout",
     "output_type": "stream",
     "text": [
      "Original tweet:\n",
      " RT @rgcricket: Players part of most #IPL title wins:\n",
      "(played in the XI)\n",
      "6- Rohit Sharma (2009-DC,2013/2015/2017/2019/2020-MI)\n",
      "5- K Pollard…\n",
      "\n",
      "Clean tweet:\n",
      " RT Players part of most IPL title wins played in the XI 6 Rohit Sharma 2009 DC 2013 2015 2017 2019 2020 MI 5 K Pollard\n",
      "\n",
      "Sentiment of the tweet:\n",
      " Positive\n"
     ]
    }
   ],
   "source": [
    "n = 20\n",
    "print(\"Original tweet:\\n\",df['Tweets'][n])\n",
    "print()\n",
    "print(\"Clean tweet:\\n\",df['clean_tweet'][n])\n",
    "print()\n",
    "print(\"Sentiment of the tweet:\\n\",df['Sentiment'][n])"
   ]
  },
  {
   "cell_type": "code",
   "execution_count": 18,
   "metadata": {},
   "outputs": [
    {
     "name": "stdout",
     "output_type": "stream",
     "text": [
      "Original tweet:\n",
      " Tonight and Tomorrow will be interesting.\n",
      "\n",
      "WT20 Final- Hope Smriti Mandhana's Trailblazers win\n",
      "\n",
      "Bihar Elections- MG… https://t.co/ya8EbD2UGe\n",
      "\n",
      "Clean tweet:\n",
      " Tonight and Tomorrow will be interesting WT20 Final Hope Smriti Mandhana s Trailblazers win Bihar Elections MG\n",
      "\n",
      "Sentiment of the tweet:\n",
      " Positive\n"
     ]
    }
   ],
   "source": [
    "n = 50\n",
    "print(\"Original tweet:\\n\",df['Tweets'][n])\n",
    "print()\n",
    "print(\"Clean tweet:\\n\",df['clean_tweet'][n])\n",
    "print()\n",
    "print(\"Sentiment of the tweet:\\n\",df['Sentiment'][n])"
   ]
  },
  {
   "cell_type": "code",
   "execution_count": 19,
   "metadata": {},
   "outputs": [
    {
     "data": {
      "text/plain": [
       "122"
      ]
     },
     "execution_count": 19,
     "metadata": {},
     "output_type": "execute_result"
    }
   ],
   "source": [
    "df[df.Sentiment == 'Positive'].shape[0]"
   ]
  },
  {
   "cell_type": "code",
   "execution_count": 20,
   "metadata": {},
   "outputs": [
    {
     "data": {
      "text/plain": [
       "10"
      ]
     },
     "execution_count": 20,
     "metadata": {},
     "output_type": "execute_result"
    }
   ],
   "source": [
    "df[df.Sentiment == 'Neutral'].shape[0]"
   ]
  },
  {
   "cell_type": "code",
   "execution_count": 21,
   "metadata": {},
   "outputs": [
    {
     "data": {
      "text/plain": [
       "1"
      ]
     },
     "execution_count": 21,
     "metadata": {},
     "output_type": "execute_result"
    }
   ],
   "source": [
    "df[df.Sentiment == 'Negative'].shape[0]"
   ]
  },
  {
   "cell_type": "code",
   "execution_count": null,
   "metadata": {},
   "outputs": [],
   "source": []
  }
 ],
 "metadata": {
  "kernelspec": {
   "display_name": "Python 3",
   "language": "python",
   "name": "python3"
  },
  "language_info": {
   "codemirror_mode": {
    "name": "ipython",
    "version": 3
   },
   "file_extension": ".py",
   "mimetype": "text/x-python",
   "name": "python",
   "nbconvert_exporter": "python",
   "pygments_lexer": "ipython3",
   "version": "3.8.3"
  }
 },
 "nbformat": 4,
 "nbformat_minor": 4
}
